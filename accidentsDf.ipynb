{
 "cells": [
  {
   "cell_type": "code",
   "execution_count": 1,
   "metadata": {
    "collapsed": true
   },
   "outputs": [],
   "source": [
    "import pandas as pd\n",
    "import numpy as np\n",
    "import os, sys"
   ]
  },
  {
   "cell_type": "code",
   "execution_count": 2,
   "metadata": {
    "collapsed": true
   },
   "outputs": [],
   "source": [
    "def queryFiles(pd, file, filter_=None, columns=None):\n",
    "    dfs = list()\n",
    "    if os.path.exists(file):\n",
    "        print('Parsing file: {}'.format(file))\n",
    "        iter_csv = pd.read_csv(file, sep=',', compression='gzip', iterator=True, chunksize=100000)\n",
    "        if filter_ == None:\n",
    "            if columns == None:\n",
    "                df = pd.concat([chunk for chunk in iter_csv])\n",
    "            else:\n",
    "                df = pd.concat([chunk[columns] for chunk in iter_csv])\n",
    "        else:\n",
    "            if columns == None:\n",
    "                df = pd.concat([chunk[filter_(chunk)] for chunk in iter_csv])\n",
    "            else:\n",
    "                df = pd.concat([chunk[filter_(chunk)][columns] for chunk in iter_csv])\n",
    "        dfs.append(df)\n",
    "    else:\n",
    "        print('Warning: file {} doesn\\'t exist!'.format(file))\n",
    "    dfAll = pd.concat(dfs)\n",
    "    return dfAll"
   ]
  },
  {
   "cell_type": "code",
   "execution_count": 5,
   "metadata": {
    "collapsed": true
   },
   "outputs": [],
   "source": [
    "inputFile = '/home/martin/Downloads/Accidents0514.csv.tar.gz'\n",
    "cols = ['Accidents0514.csv','Accident_Severity','Number_of_Vehicles','Number_of_Casualties','Date','Day_of_Week']"
   ]
  },
  {
   "cell_type": "code",
   "execution_count": 6,
   "metadata": {
    "collapsed": false
   },
   "outputs": [
    {
     "name": "stderr",
     "output_type": "stream",
     "text": [
      "/home/martin/anaconda3/lib/python3.5/site-packages/IPython/core/interactiveshell.py:3006: DtypeWarning: Columns (0) have mixed types. Specify dtype option on import or set low_memory=False.\n",
      "  if self.run_code(code, result):\n",
      "/home/martin/anaconda3/lib/python3.5/site-packages/IPython/core/interactiveshell.py:3006: DtypeWarning: Columns (31) have mixed types. Specify dtype option on import or set low_memory=False.\n",
      "  if self.run_code(code, result):\n"
     ]
    },
    {
     "name": "stdout",
     "output_type": "stream",
     "text": [
      "Parsing file: /home/martin/Downloads/Accidents0514.csv.tar.gz\n"
     ]
    }
   ],
   "source": [
    "df = queryFiles(pd, inputFile, None, cols)"
   ]
  },
  {
   "cell_type": "code",
   "execution_count": 7,
   "metadata": {
    "collapsed": false
   },
   "outputs": [
    {
     "name": "stdout",
     "output_type": "stream",
     "text": [
      "<class 'pandas.core.frame.DataFrame'>\n",
      "Int64Index: 1640597 entries, 0 to 40596\n",
      "Data columns (total 6 columns):\n",
      "Accidents0514.csv       1640597 non-null object\n",
      "Accident_Severity       1640597 non-null int64\n",
      "Number_of_Vehicles      1640597 non-null int64\n",
      "Number_of_Casualties    1640597 non-null int64\n",
      "Date                    1640597 non-null object\n",
      "Day_of_Week             1640597 non-null int64\n",
      "dtypes: int64(4), object(2)\n",
      "memory usage: 87.6+ MB\n"
     ]
    }
   ],
   "source": [
    "df.info()"
   ]
  },
  {
   "cell_type": "code",
   "execution_count": 8,
   "metadata": {
    "collapsed": true
   },
   "outputs": [],
   "source": [
    "descDwLink = 'https://dl.dropboxusercontent.com/u/45463862/Road-Accident-Safety-Data-Guide-1979-2004.xls'\n",
    "descDict = pd.read_excel(descDwLink, sheetname=None)"
   ]
  },
  {
   "cell_type": "code",
   "execution_count": 10,
   "metadata": {
    "collapsed": false
   },
   "outputs": [
    {
     "data": {
      "text/html": [
       "<div>\n",
       "<table border=\"1\" class=\"dataframe\">\n",
       "  <thead>\n",
       "    <tr style=\"text-align: right;\">\n",
       "      <th></th>\n",
       "      <th>Accidents0514.csv</th>\n",
       "      <th>Accident_Severity</th>\n",
       "      <th>Number_of_Vehicles</th>\n",
       "      <th>Number_of_Casualties</th>\n",
       "      <th>Date</th>\n",
       "      <th>Day_of_Week</th>\n",
       "    </tr>\n",
       "  </thead>\n",
       "  <tbody>\n",
       "    <tr>\n",
       "      <th>86319</th>\n",
       "      <td>20144100J0489</td>\n",
       "      <td>2</td>\n",
       "      <td>2</td>\n",
       "      <td>93</td>\n",
       "      <td>20/10/2014</td>\n",
       "      <td>2</td>\n",
       "    </tr>\n",
       "  </tbody>\n",
       "</table>\n",
       "</div>"
      ],
      "text/plain": [
       "      Accidents0514.csv  Accident_Severity  Number_of_Vehicles  \\\n",
       "86319     20144100J0489                  2                   2   \n",
       "\n",
       "       Number_of_Casualties        Date  Day_of_Week  \n",
       "86319                    93  20/10/2014            2  "
      ]
     },
     "execution_count": 10,
     "metadata": {},
     "output_type": "execute_result"
    }
   ],
   "source": [
    "df[df.Number_of_Casualties == df.Number_of_Casualties.max()]"
   ]
  },
  {
   "cell_type": "code",
   "execution_count": 12,
   "metadata": {
    "collapsed": false
   },
   "outputs": [
    {
     "data": {
      "text/plain": [
       "Number_of_Casualties\n",
       "1     11978\n",
       "2      4922\n",
       "3      2178\n",
       "4      1178\n",
       "5       577\n",
       "6       279\n",
       "7       125\n",
       "8        49\n",
       "9        27\n",
       "10       16\n",
       "11       11\n",
       "12        5\n",
       "13        7\n",
       "14        3\n",
       "15        1\n",
       "16        3\n",
       "17        3\n",
       "18        1\n",
       "19        1\n",
       "21        2\n",
       "22        2\n",
       "24        1\n",
       "27        1\n",
       "29        1\n",
       "38        1\n",
       "40        1\n",
       "42        2\n",
       "43        1\n",
       "45        1\n",
       "48        1\n",
       "51        2\n",
       "62        1\n",
       "68        1\n",
       "dtype: int64"
      ]
     },
     "execution_count": 12,
     "metadata": {},
     "output_type": "execute_result"
    }
   ],
   "source": [
    "df[df.Accident_Severity == 1].groupby('Number_of_Casualties').size()"
   ]
  },
  {
   "cell_type": "code",
   "execution_count": 16,
   "metadata": {
    "collapsed": false
   },
   "outputs": [
    {
     "data": {
      "text/plain": [
       "array(['Tuesday', 'Wednesday', 'Thursday', 'Friday', 'Monday', 'Saturday',\n",
       "       'Sunday'], dtype=object)"
      ]
     },
     "execution_count": 16,
     "metadata": {},
     "output_type": "execute_result"
    }
   ],
   "source": [
    "df.Day_of_Week.unique()"
   ]
  },
  {
   "cell_type": "code",
   "execution_count": 15,
   "metadata": {
    "collapsed": false
   },
   "outputs": [],
   "source": [
    "df['Day_of_Week'] = df.Day_of_Week.map(descDict['Day of Week'].set_index('code')['label'])"
   ]
  },
  {
   "cell_type": "code",
   "execution_count": 20,
   "metadata": {
    "collapsed": true
   },
   "outputs": [],
   "source": [
    "%matplotlib inline"
   ]
  },
  {
   "cell_type": "code",
   "execution_count": 21,
   "metadata": {
    "collapsed": false
   },
   "outputs": [
    {
     "data": {
      "text/plain": [
       "<matplotlib.axes._subplots.AxesSubplot at 0x7f4fbfc640f0>"
      ]
     },
     "execution_count": 21,
     "metadata": {},
     "output_type": "execute_result"
    },
    {
     "data": {
      "image/png": "[encoded data removed]",
      "text/plain": [
       "<matplotlib.figure.Figure at 0x7f4fbfc77198>"
      ]
     },
     "metadata": {},
     "output_type": "display_data"
    }
   ],
   "source": [
    "df[df.Accident_Severity == 1].groupby('Day_of_Week').size().plot.bar()"
   ]
  },
  {
   "cell_type": "code",
   "execution_count": 22,
   "metadata": {
    "collapsed": false
   },
   "outputs": [
    {
     "data": {
      "text/plain": [
       "0    04/01/2005\n",
       "1    05/01/2005\n",
       "2    06/01/2005\n",
       "3    07/01/2005\n",
       "4    10/01/2005\n",
       "Name: Date, dtype: object"
      ]
     },
     "execution_count": 22,
     "metadata": {},
     "output_type": "execute_result"
    }
   ],
   "source": [
    "df['Date'].head()"
   ]
  },
  {
   "cell_type": "code",
   "execution_count": 23,
   "metadata": {
    "collapsed": true
   },
   "outputs": [],
   "source": [
    "df['Date'] = pd.to_datetime(df.Date)"
   ]
  },
  {
   "cell_type": "code",
   "execution_count": 24,
   "metadata": {
    "collapsed": false
   },
   "outputs": [
    {
     "data": {
      "text/html": [
       "<div>\n",
       "<table border=\"1\" class=\"dataframe\">\n",
       "  <thead>\n",
       "    <tr style=\"text-align: right;\">\n",
       "      <th></th>\n",
       "      <th>Accidents0514.csv</th>\n",
       "      <th>Accident_Severity</th>\n",
       "      <th>Number_of_Vehicles</th>\n",
       "      <th>Number_of_Casualties</th>\n",
       "      <th>Date</th>\n",
       "      <th>Day_of_Week</th>\n",
       "    </tr>\n",
       "  </thead>\n",
       "  <tbody>\n",
       "    <tr>\n",
       "      <th>0</th>\n",
       "      <td>200501BS00001</td>\n",
       "      <td>2</td>\n",
       "      <td>1</td>\n",
       "      <td>1</td>\n",
       "      <td>2005-04-01</td>\n",
       "      <td>Tuesday</td>\n",
       "    </tr>\n",
       "    <tr>\n",
       "      <th>1</th>\n",
       "      <td>200501BS00002</td>\n",
       "      <td>3</td>\n",
       "      <td>1</td>\n",
       "      <td>1</td>\n",
       "      <td>2005-05-01</td>\n",
       "      <td>Wednesday</td>\n",
       "    </tr>\n",
       "    <tr>\n",
       "      <th>2</th>\n",
       "      <td>200501BS00003</td>\n",
       "      <td>3</td>\n",
       "      <td>2</td>\n",
       "      <td>1</td>\n",
       "      <td>2005-06-01</td>\n",
       "      <td>Thursday</td>\n",
       "    </tr>\n",
       "    <tr>\n",
       "      <th>3</th>\n",
       "      <td>200501BS00004</td>\n",
       "      <td>3</td>\n",
       "      <td>1</td>\n",
       "      <td>1</td>\n",
       "      <td>2005-07-01</td>\n",
       "      <td>Friday</td>\n",
       "    </tr>\n",
       "    <tr>\n",
       "      <th>4</th>\n",
       "      <td>200501BS00005</td>\n",
       "      <td>3</td>\n",
       "      <td>1</td>\n",
       "      <td>1</td>\n",
       "      <td>2005-10-01</td>\n",
       "      <td>Monday</td>\n",
       "    </tr>\n",
       "  </tbody>\n",
       "</table>\n",
       "</div>"
      ],
      "text/plain": [
       "  Accidents0514.csv  Accident_Severity  Number_of_Vehicles  \\\n",
       "0     200501BS00001                  2                   1   \n",
       "1     200501BS00002                  3                   1   \n",
       "2     200501BS00003                  3                   2   \n",
       "3     200501BS00004                  3                   1   \n",
       "4     200501BS00005                  3                   1   \n",
       "\n",
       "   Number_of_Casualties       Date Day_of_Week  \n",
       "0                     1 2005-04-01     Tuesday  \n",
       "1                     1 2005-05-01   Wednesday  \n",
       "2                     1 2005-06-01    Thursday  \n",
       "3                     1 2005-07-01      Friday  \n",
       "4                     1 2005-10-01      Monday  "
      ]
     },
     "execution_count": 24,
     "metadata": {},
     "output_type": "execute_result"
    }
   ],
   "source": [
    "df.head()"
   ]
  },
  {
   "cell_type": "code",
   "execution_count": null,
   "metadata": {
    "collapsed": true
   },
   "outputs": [],
   "source": []
  }
 ],
 "metadata": {
  "kernelspec": {
   "display_name": "Python 3",
   "language": "python",
   "name": "python3"
  },
  "language_info": {
   "codemirror_mode": {
    "name": "ipython",
    "version": 3
   },
   "file_extension": ".py",
   "mimetype": "text/x-python",
   "name": "python",
   "nbconvert_exporter": "python",
   "pygments_lexer": "ipython3",
   "version": "3.5.1"
  }
 },
 "nbformat": 4,
 "nbformat_minor": 0
}
