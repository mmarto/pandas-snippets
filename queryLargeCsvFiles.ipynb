{
 "cells": [
  {
   "cell_type": "code",
   "execution_count": 2,
   "metadata": {
    "collapsed": true
   },
   "outputs": [],
   "source": [
    "import os, sys\n",
    "import pandas as pd"
   ]
  },
  {
   "cell_type": "code",
   "execution_count": 5,
   "metadata": {
    "collapsed": false
   },
   "outputs": [],
   "source": [
    "def queryFiles(pd, startDate, endDate, filter_=None, columns=None):\n",
    "    '''Function to get data from large csv files located in data/\n",
    "    Filename to query: data.YYYYMMDD.gz\n",
    "    Params: startDate, endDate (YYYYMMDD)\n",
    "            filter (Example: filter = lambda df: df['EXCHANGE'] == 'HKSE')\n",
    "    '''\n",
    "    dateList = pd.date_range(start=pd.to_datetime(startDate, format='%Y%m%d'), end=pd.to_datetime(endDate, format='%Y%m%d'))\n",
    "    dfs = list()\n",
    "    for dt in dateList.tolist():\n",
    "        file = 'data/data.{0:%Y%m%d}.gz'.format(dt)\n",
    "        if os.path.exists(file):\n",
    "            print('Parsing file: {}'.format(file))\n",
    "            iter_csv = pd.read_csv(file, sep='|', compression='gzip', iterator=True, chunksize=100000)\n",
    "            if filter_ == None:\n",
    "                if columns == None:\n",
    "                    df = pd.concat([chunk for chunk in iter_csv])\n",
    "                else:\n",
    "                    df = pd.concat([chunk[columns] for chunk in iter_csv])\n",
    "            else:\n",
    "                if columns == None:\n",
    "                    df = pd.concat([chunk[filter_(chunk)] for chunk in iter_csv])\n",
    "                else:\n",
    "                    df = pd.concat([chunk[filter_(chunk)][columns] for chunk in iter_csv])\n",
    "            dfs.append(df)\n",
    "        else:\n",
    "            print('Warning: file {} doesn\\'t exist!'.format(file))\n",
    "    dfAll = pd.concat(dfs)\n",
    "    return dfAll"
   ]
  },
  {
   "cell_type": "code",
   "execution_count": null,
   "metadata": {
    "collapsed": true
   },
   "outputs": [],
   "source": []
  }
 ],
 "metadata": {
  "kernelspec": {
   "display_name": "Python 3",
   "language": "python",
   "name": "python3"
  },
  "language_info": {
   "codemirror_mode": {
    "name": "ipython",
    "version": 3
   },
   "file_extension": ".py",
   "mimetype": "text/x-python",
   "name": "python",
   "nbconvert_exporter": "python",
   "pygments_lexer": "ipython3",
   "version": "3.5.1"
  }
 },
 "nbformat": 4,
 "nbformat_minor": 0
}
