{
 "cells": [
  {
   "cell_type": "code",
   "execution_count": 14,
   "metadata": {
    "collapsed": true
   },
   "outputs": [],
   "source": [
    "import pandas as pd\n",
    "import numpy as np\n",
    "import os, sys"
   ]
  },
  {
   "cell_type": "code",
   "execution_count": 17,
   "metadata": {
    "collapsed": true
   },
   "outputs": [],
   "source": [
    "descDwLink = 'https://dl.dropboxusercontent.com/u/45463862/Road-Accident-Safety-Data-Guide-1979-2004.xls'\n",
    "descDict = pd.read_excel(descDwLink, sheetname=None)"
   ]
  },
  {
   "cell_type": "code",
   "execution_count": 4,
   "metadata": {
    "collapsed": false
   },
   "outputs": [],
   "source": [
    "def queryFiles(pd, file, filter_=None, columns=None):\n",
    "    dfs = list()\n",
    "    if os.path.exists(file):\n",
    "        print('Parsing file: {}'.format(file))\n",
    "        iter_csv = pd.read_csv(file, sep=',', compression='gzip', iterator=True, chunksize=100000)\n",
    "        if filter_ == None:\n",
    "            if columns == None:\n",
    "                df = pd.concat([chunk for chunk in iter_csv])\n",
    "            else:\n",
    "                df = pd.concat([chunk[columns] for chunk in iter_csv])\n",
    "        else:\n",
    "            if columns == None:\n",
    "                df = pd.concat([chunk[filter_(chunk)] for chunk in iter_csv])\n",
    "            else:\n",
    "                df = pd.concat([chunk[filter_(chunk)][columns] for chunk in iter_csv])\n",
    "        dfs.append(df)\n",
    "    else:\n",
    "        print('Warning: file {} doesn\\'t exist!'.format(file))\n",
    "    dfAll = pd.concat(dfs)\n",
    "    return dfAll"
   ]
  },
  {
   "cell_type": "code",
   "execution_count": 9,
   "metadata": {
    "collapsed": false
   },
   "outputs": [],
   "source": [
    "inputFile = '/home/martin/Downloads/Vehicles0514.csv.tar.gz'\n",
    "cols = ['Vehicles0514.csv',\n",
    "'Vehicle_Reference',\n",
    "'Vehicle_Type',\n",
    "'Was_Vehicle_Left_Hand_Drive?',\n",
    "'Sex_of_Driver',\n",
    "'Age_of_Driver',\n",
    "'Age_Band_of_Driver',\n",
    "'Engine_Capacity_(CC)',\n",
    "'Propulsion_Code',\n",
    "'Age_of_Vehicle']"
   ]
  },
  {
   "cell_type": "code",
   "execution_count": 10,
   "metadata": {
    "collapsed": false
   },
   "outputs": [
    {
     "name": "stdout",
     "output_type": "stream",
     "text": [
      "Parsing file: /home/martin/Downloads/Vehicles0514.csv.tar.gz\n"
     ]
    },
    {
     "name": "stderr",
     "output_type": "stream",
     "text": [
      "/home/martin/anaconda3/lib/python3.5/site-packages/IPython/core/interactiveshell.py:3006: DtypeWarning: Columns (0) have mixed types. Specify dtype option on import or set low_memory=False.\n",
      "  if self.run_code(code, result):\n"
     ]
    }
   ],
   "source": [
    "df = queryFiles(pd, inputFile, None, cols)"
   ]
  },
  {
   "cell_type": "code",
   "execution_count": 11,
   "metadata": {
    "collapsed": false
   },
   "outputs": [
    {
     "name": "stdout",
     "output_type": "stream",
     "text": [
      "<class 'pandas.core.frame.DataFrame'>\n",
      "Int64Index: 3004425 entries, 0 to 4424\n",
      "Data columns (total 10 columns):\n",
      "Vehicles0514.csv                object\n",
      "Vehicle_Reference               int64\n",
      "Vehicle_Type                    int64\n",
      "Was_Vehicle_Left_Hand_Drive?    int64\n",
      "Sex_of_Driver                   int64\n",
      "Age_of_Driver                   int64\n",
      "Age_Band_of_Driver              int64\n",
      "Engine_Capacity_(CC)            int64\n",
      "Propulsion_Code                 int64\n",
      "Age_of_Vehicle                  int64\n",
      "dtypes: int64(9), object(1)\n",
      "memory usage: 252.1+ MB\n"
     ]
    }
   ],
   "source": [
    "df.info()"
   ]
  },
  {
   "cell_type": "code",
   "execution_count": 12,
   "metadata": {
    "collapsed": false
   },
   "outputs": [
    {
     "data": {
      "text/html": [
       "<div>\n",
       "<table border=\"1\" class=\"dataframe\">\n",
       "  <thead>\n",
       "    <tr style=\"text-align: right;\">\n",
       "      <th></th>\n",
       "      <th>Vehicles0514.csv</th>\n",
       "      <th>Vehicle_Reference</th>\n",
       "      <th>Vehicle_Type</th>\n",
       "      <th>Was_Vehicle_Left_Hand_Drive?</th>\n",
       "      <th>Sex_of_Driver</th>\n",
       "      <th>Age_of_Driver</th>\n",
       "      <th>Age_Band_of_Driver</th>\n",
       "      <th>Engine_Capacity_(CC)</th>\n",
       "      <th>Propulsion_Code</th>\n",
       "      <th>Age_of_Vehicle</th>\n",
       "    </tr>\n",
       "  </thead>\n",
       "  <tbody>\n",
       "    <tr>\n",
       "      <th>0</th>\n",
       "      <td>200501BS00001</td>\n",
       "      <td>1</td>\n",
       "      <td>9</td>\n",
       "      <td>1</td>\n",
       "      <td>2</td>\n",
       "      <td>74</td>\n",
       "      <td>10</td>\n",
       "      <td>-1</td>\n",
       "      <td>-1</td>\n",
       "      <td>-1</td>\n",
       "    </tr>\n",
       "    <tr>\n",
       "      <th>1</th>\n",
       "      <td>200501BS00002</td>\n",
       "      <td>1</td>\n",
       "      <td>11</td>\n",
       "      <td>1</td>\n",
       "      <td>1</td>\n",
       "      <td>42</td>\n",
       "      <td>7</td>\n",
       "      <td>8268</td>\n",
       "      <td>2</td>\n",
       "      <td>3</td>\n",
       "    </tr>\n",
       "    <tr>\n",
       "      <th>2</th>\n",
       "      <td>200501BS00003</td>\n",
       "      <td>1</td>\n",
       "      <td>11</td>\n",
       "      <td>1</td>\n",
       "      <td>1</td>\n",
       "      <td>35</td>\n",
       "      <td>6</td>\n",
       "      <td>8300</td>\n",
       "      <td>2</td>\n",
       "      <td>5</td>\n",
       "    </tr>\n",
       "    <tr>\n",
       "      <th>3</th>\n",
       "      <td>200501BS00003</td>\n",
       "      <td>2</td>\n",
       "      <td>9</td>\n",
       "      <td>1</td>\n",
       "      <td>1</td>\n",
       "      <td>62</td>\n",
       "      <td>9</td>\n",
       "      <td>1762</td>\n",
       "      <td>1</td>\n",
       "      <td>6</td>\n",
       "    </tr>\n",
       "    <tr>\n",
       "      <th>4</th>\n",
       "      <td>200501BS00004</td>\n",
       "      <td>1</td>\n",
       "      <td>9</td>\n",
       "      <td>1</td>\n",
       "      <td>2</td>\n",
       "      <td>49</td>\n",
       "      <td>8</td>\n",
       "      <td>1769</td>\n",
       "      <td>1</td>\n",
       "      <td>4</td>\n",
       "    </tr>\n",
       "  </tbody>\n",
       "</table>\n",
       "</div>"
      ],
      "text/plain": [
       "  Vehicles0514.csv  Vehicle_Reference  Vehicle_Type  \\\n",
       "0    200501BS00001                  1             9   \n",
       "1    200501BS00002                  1            11   \n",
       "2    200501BS00003                  1            11   \n",
       "3    200501BS00003                  2             9   \n",
       "4    200501BS00004                  1             9   \n",
       "\n",
       "   Was_Vehicle_Left_Hand_Drive?  Sex_of_Driver  Age_of_Driver  \\\n",
       "0                             1              2             74   \n",
       "1                             1              1             42   \n",
       "2                             1              1             35   \n",
       "3                             1              1             62   \n",
       "4                             1              2             49   \n",
       "\n",
       "   Age_Band_of_Driver  Engine_Capacity_(CC)  Propulsion_Code  Age_of_Vehicle  \n",
       "0                  10                    -1               -1              -1  \n",
       "1                   7                  8268                2               3  \n",
       "2                   6                  8300                2               5  \n",
       "3                   9                  1762                1               6  \n",
       "4                   8                  1769                1               4  "
      ]
     },
     "execution_count": 12,
     "metadata": {},
     "output_type": "execute_result"
    }
   ],
   "source": [
    "df.head()"
   ]
  },
  {
   "cell_type": "code",
   "execution_count": 16,
   "metadata": {
    "collapsed": false
   },
   "outputs": [],
   "source": [
    "df.replace(-1, np.nan, inplace=True)"
   ]
  },
  {
   "cell_type": "code",
   "execution_count": 18,
   "metadata": {
    "collapsed": false
   },
   "outputs": [
    {
     "name": "stdout",
     "output_type": "stream",
     "text": [
      "Local Authority (District)\n",
      "Car Passenger\n",
      "Casualty Severity\n",
      "Introduction\n",
      "Age Band\n",
      "Hit Object in Carriageway\n",
      "Casualty Class\n",
      "Junction Detail\n",
      "1st Road Class\n",
      "1st Point of Impact\n",
      "Was Vehicle Left Hand Drive\n",
      "Special Conditions at Site\n",
      "IMD Decile\n",
      "Local Authority (Highway)\n",
      "Carriageway Hazards\n",
      "Ped Movement\n",
      "Police Force\n",
      "Home Area Type\n",
      "Weather\n",
      "Accident Severity\n",
      "Casualty Type\n",
      "Vehicle Manoeuvre\n",
      "Ped Cross - Human\n",
      "Export Variables\n",
      "Urban Rural\n",
      "Junction Control\n",
      "Road Surface\n",
      "Vehicle Type\n",
      "Sex of Casualty\n",
      "Ped Location\n",
      "Vehicle Propulsion Code\n",
      "Vehicle Location\n",
      "Ped Road Maintenance Worker\n",
      "Ped Cross - Physical\n",
      "Hit Object Off Carriageway\n",
      "Road Type\n",
      "Light Conditions\n",
      "Sex of Driver\n",
      "Day of Week\n",
      "Veh Leaving Carriageway\n",
      "Junction Location\n",
      "Skidding and Overturning\n",
      "2nd Road Class\n",
      "Towing and Articulation\n",
      "Bus Passenger\n",
      "Journey Purpose\n",
      "Police Officer Attend\n"
     ]
    }
   ],
   "source": [
    "for k in descDict.keys():\n",
    "    print(k)"
   ]
  },
  {
   "cell_type": "code",
   "execution_count": 19,
   "metadata": {
    "collapsed": false
   },
   "outputs": [
    {
     "data": {
      "text/plain": [
       "code\n",
       " 1                            Male\n",
       " 2                          Female\n",
       " 3                       Not known\n",
       "-1    Data missing or out of range\n",
       "Name: label, dtype: object"
      ]
     },
     "execution_count": 19,
     "metadata": {},
     "output_type": "execute_result"
    }
   ],
   "source": [
    "descDict['Sex of Driver'].set_index('code')['label']"
   ]
  },
  {
   "cell_type": "code",
   "execution_count": 20,
   "metadata": {
    "collapsed": true
   },
   "outputs": [],
   "source": [
    "df['Sex_of_Driver'] = df.Sex_of_Driver.map(descDict['Sex of Driver'].set_index('code')['label'])"
   ]
  },
  {
   "cell_type": "code",
   "execution_count": 21,
   "metadata": {
    "collapsed": false
   },
   "outputs": [
    {
     "data": {
      "text/plain": [
       "Male         1978150\n",
       "Female        852519\n",
       "Not known     173723\n",
       "Name: Sex_of_Driver, dtype: int64"
      ]
     },
     "execution_count": 21,
     "metadata": {},
     "output_type": "execute_result"
    }
   ],
   "source": [
    "df.Sex_of_Driver.value_counts()"
   ]
  },
  {
   "cell_type": "code",
   "execution_count": 28,
   "metadata": {
    "collapsed": false
   },
   "outputs": [],
   "source": [
    "df['Year'] = df['Vehicles0514.csv'].apply(lambda x: str(x)[:4])"
   ]
  },
  {
   "cell_type": "code",
   "execution_count": 29,
   "metadata": {
    "collapsed": false
   },
   "outputs": [],
   "source": [
    "df['Year'] = pd.to_datetime(df.Year, format='%Y')"
   ]
  },
  {
   "cell_type": "code",
   "execution_count": 30,
   "metadata": {
    "collapsed": false
   },
   "outputs": [
    {
     "data": {
      "text/plain": [
       "0   2005-01-01\n",
       "1   2005-01-01\n",
       "2   2005-01-01\n",
       "3   2005-01-01\n",
       "4   2005-01-01\n",
       "Name: Year, dtype: datetime64[ns]"
      ]
     },
     "execution_count": 30,
     "metadata": {},
     "output_type": "execute_result"
    }
   ],
   "source": [
    "df.Year.head()"
   ]
  },
  {
   "cell_type": "code",
   "execution_count": 31,
   "metadata": {
    "collapsed": false
   },
   "outputs": [],
   "source": [
    "%matplotlib inline"
   ]
  },
  {
   "cell_type": "code",
   "execution_count": 38,
   "metadata": {
    "collapsed": false
   },
   "outputs": [
    {
     "data": {
      "text/html": [
       "<div>\n",
       "<table border=\"1\" class=\"dataframe\">\n",
       "  <thead>\n",
       "    <tr style=\"text-align: right;\">\n",
       "      <th>Year</th>\n",
       "      <th>2005</th>\n",
       "      <th>2006</th>\n",
       "      <th>2007</th>\n",
       "      <th>2008</th>\n",
       "      <th>2009</th>\n",
       "      <th>2010</th>\n",
       "      <th>2011</th>\n",
       "      <th>2012</th>\n",
       "      <th>2013</th>\n",
       "      <th>2014</th>\n",
       "    </tr>\n",
       "    <tr>\n",
       "      <th>Sex_of_Driver</th>\n",
       "      <th></th>\n",
       "      <th></th>\n",
       "      <th></th>\n",
       "      <th></th>\n",
       "      <th></th>\n",
       "      <th></th>\n",
       "      <th></th>\n",
       "      <th></th>\n",
       "      <th></th>\n",
       "      <th></th>\n",
       "    </tr>\n",
       "  </thead>\n",
       "  <tbody>\n",
       "    <tr>\n",
       "      <th>Female</th>\n",
       "      <td>100512</td>\n",
       "      <td>97022</td>\n",
       "      <td>93469</td>\n",
       "      <td>88731</td>\n",
       "      <td>86244</td>\n",
       "      <td>81033</td>\n",
       "      <td>79545</td>\n",
       "      <td>77139</td>\n",
       "      <td>72347</td>\n",
       "      <td>76477</td>\n",
       "    </tr>\n",
       "    <tr>\n",
       "      <th>Male</th>\n",
       "      <td>244878</td>\n",
       "      <td>231473</td>\n",
       "      <td>222995</td>\n",
       "      <td>205412</td>\n",
       "      <td>195642</td>\n",
       "      <td>183981</td>\n",
       "      <td>179953</td>\n",
       "      <td>173166</td>\n",
       "      <td>164983</td>\n",
       "      <td>175667</td>\n",
       "    </tr>\n",
       "    <tr>\n",
       "      <th>Not known</th>\n",
       "      <td>20815</td>\n",
       "      <td>19562</td>\n",
       "      <td>18502</td>\n",
       "      <td>17461</td>\n",
       "      <td>16801</td>\n",
       "      <td>16387</td>\n",
       "      <td>16657</td>\n",
       "      <td>15572</td>\n",
       "      <td>15583</td>\n",
       "      <td>16383</td>\n",
       "    </tr>\n",
       "  </tbody>\n",
       "</table>\n",
       "</div>"
      ],
      "text/plain": [
       "Year             2005    2006    2007    2008    2009    2010    2011    2012  \\\n",
       "Sex_of_Driver                                                                   \n",
       "Female         100512   97022   93469   88731   86244   81033   79545   77139   \n",
       "Male           244878  231473  222995  205412  195642  183981  179953  173166   \n",
       "Not known       20815   19562   18502   17461   16801   16387   16657   15572   \n",
       "\n",
       "Year             2013    2014  \n",
       "Sex_of_Driver                  \n",
       "Female          72347   76477  \n",
       "Male           164983  175667  \n",
       "Not known       15583   16383  "
      ]
     },
     "execution_count": 38,
     "metadata": {},
     "output_type": "execute_result"
    }
   ],
   "source": [
    "df.groupby([df['Year'].map(lambda x: x.year), df['Sex_of_Driver']]).size().unstack(0)"
   ]
  },
  {
   "cell_type": "code",
   "execution_count": 50,
   "metadata": {
    "collapsed": false
   },
   "outputs": [
    {
     "data": {
      "text/plain": [
       "<matplotlib.legend.Legend at 0x7fc7c2f69160>"
      ]
     },
     "execution_count": 50,
     "metadata": {},
     "output_type": "execute_result"
    },
    {
     "data": {
      "image/png": "[encoded data removed]",
      "text/plain": [
       "<matplotlib.figure.Figure at 0x7fc7c1672b00>"
      ]
     },
     "metadata": {},
     "output_type": "display_data"
    }
   ],
   "source": [
    "df.groupby(['Year', 'Sex_of_Driver']).size().unstack(1).plot(figsize=(8,5)).legend(loc='center left', bbox_to_anchor=(1, 0.5))"
   ]
  },
  {
   "cell_type": "code",
   "execution_count": 53,
   "metadata": {
    "collapsed": false
   },
   "outputs": [
    {
     "data": {
      "text/plain": [
       "<matplotlib.legend.Legend at 0x7fc7c15acb00>"
      ]
     },
     "execution_count": 53,
     "metadata": {},
     "output_type": "execute_result"
    },
    {
     "data": {
      "image/png": "[encoded data removed]",
      "text/plain": [
       "<matplotlib.figure.Figure at 0x7fc7c1603550>"
      ]
     },
     "metadata": {},
     "output_type": "display_data"
    }
   ],
   "source": [
    "df.groupby(['Age_of_Driver']).size().plot(figsize=(8,5)).legend(loc='center left', bbox_to_anchor=(1, 0.5))"
   ]
  },
  {
   "cell_type": "code",
   "execution_count": 54,
   "metadata": {
    "collapsed": false
   },
   "outputs": [
    {
     "data": {
      "text/plain": [
       "Index(['Vehicles0514.csv', 'Vehicle_Reference', 'Vehicle_Type',\n",
       "       'Was_Vehicle_Left_Hand_Drive?', 'Sex_of_Driver', 'Age_of_Driver',\n",
       "       'Age_Band_of_Driver', 'Engine_Capacity_(CC)', 'Propulsion_Code',\n",
       "       'Age_of_Vehicle', 'Year'],\n",
       "      dtype='object')"
      ]
     },
     "execution_count": 54,
     "metadata": {},
     "output_type": "execute_result"
    }
   ],
   "source": [
    "df.columns"
   ]
  },
  {
   "cell_type": "code",
   "execution_count": 55,
   "metadata": {
    "collapsed": true
   },
   "outputs": [],
   "source": [
    "df['Age_Band_of_Driver'] = df.Age_Band_of_Driver.map(descDict['Age Band'].set_index('code')['label'])"
   ]
  },
  {
   "cell_type": "code",
   "execution_count": 63,
   "metadata": {
    "collapsed": false
   },
   "outputs": [
    {
     "data": {
      "text/plain": [
       "<matplotlib.axes._subplots.AxesSubplot at 0x7fc7e81b8358>"
      ]
     },
     "execution_count": 63,
     "metadata": {},
     "output_type": "execute_result"
    },
    {
     "data": {
      "image/png": "[encoded data removed]",
      "text/plain": [
       "<matplotlib.figure.Figure at 0x7fc7e81bdeb8>"
      ]
     },
     "metadata": {},
     "output_type": "display_data"
    }
   ],
   "source": [
    "df.groupby(['Age_Band_of_Driver']).size().plot.bar()"
   ]
  },
  {
   "cell_type": "code",
   "execution_count": null,
   "metadata": {
    "collapsed": true
   },
   "outputs": [],
   "source": []
  }
 ],
 "metadata": {
  "kernelspec": {
   "display_name": "Python 3",
   "language": "python",
   "name": "python3"
  },
  "language_info": {
   "codemirror_mode": {
    "name": "ipython",
    "version": 3
   },
   "file_extension": ".py",
   "mimetype": "text/x-python",
   "name": "python",
   "nbconvert_exporter": "python",
   "pygments_lexer": "ipython3",
   "version": "3.5.1"
  }
 },
 "nbformat": 4,
 "nbformat_minor": 0
}
