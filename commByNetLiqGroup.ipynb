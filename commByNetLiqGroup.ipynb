{
 "cells": [
  {
   "cell_type": "markdown",
   "metadata": {},
   "source": [
    "## Commission By Net Liquidity Group"
   ]
  },
  {
   "cell_type": "code",
   "execution_count": 47,
   "metadata": {
    "collapsed": true
   },
   "outputs": [],
   "source": [
    "import pandas as pd\n",
    "import numpy as np"
   ]
  },
  {
   "cell_type": "code",
   "execution_count": 48,
   "metadata": {
    "collapsed": true
   },
   "outputs": [],
   "source": [
    "pd.options.display.float_format = '{:.2f}%'.format"
   ]
  },
  {
   "cell_type": "code",
   "execution_count": 49,
   "metadata": {
    "collapsed": true
   },
   "outputs": [],
   "source": [
    "df = pd.read_csv('acctIdEqComm.csv.gz', compression='gzip')"
   ]
  },
  {
   "cell_type": "code",
   "execution_count": 50,
   "metadata": {
    "collapsed": false
   },
   "outputs": [
    {
     "name": "stdout",
     "output_type": "stream",
     "text": [
      "<class 'pandas.core.frame.DataFrame'>\n",
      "Int64Index: 558114 entries, 0 to 558113\n",
      "Data columns (total 3 columns):\n",
      "ACCT_ID    558114 non-null object\n",
      "COMM       143445 non-null float64\n",
      "EQUITY     453978 non-null float64\n",
      "dtypes: float64(2), object(1)\n",
      "memory usage: 17.0+ MB\n"
     ]
    }
   ],
   "source": [
    "df.info()"
   ]
  },
  {
   "cell_type": "code",
   "execution_count": 51,
   "metadata": {
    "collapsed": false
   },
   "outputs": [
    {
     "data": {
      "text/html": [
       "<div>\n",
       "<table border=\"1\" class=\"dataframe\">\n",
       "  <thead>\n",
       "    <tr style=\"text-align: right;\">\n",
       "      <th></th>\n",
       "      <th>ACCT_ID</th>\n",
       "      <th>COMM</th>\n",
       "      <th>EQUITY</th>\n",
       "    </tr>\n",
       "  </thead>\n",
       "  <tbody>\n",
       "    <tr>\n",
       "      <th>558109</th>\n",
       "      <td>ACCTID558109</td>\n",
       "      <td>nan%</td>\n",
       "      <td>858.00%</td>\n",
       "    </tr>\n",
       "    <tr>\n",
       "      <th>558110</th>\n",
       "      <td>ACCTID558110</td>\n",
       "      <td>nan%</td>\n",
       "      <td>84807.47%</td>\n",
       "    </tr>\n",
       "    <tr>\n",
       "      <th>558111</th>\n",
       "      <td>ACCTID558111</td>\n",
       "      <td>25.15%</td>\n",
       "      <td>37868.63%</td>\n",
       "    </tr>\n",
       "    <tr>\n",
       "      <th>558112</th>\n",
       "      <td>ACCTID558112</td>\n",
       "      <td>21.76%</td>\n",
       "      <td>46015.88%</td>\n",
       "    </tr>\n",
       "    <tr>\n",
       "      <th>558113</th>\n",
       "      <td>ACCTID558113</td>\n",
       "      <td>nan%</td>\n",
       "      <td>6368.76%</td>\n",
       "    </tr>\n",
       "  </tbody>\n",
       "</table>\n",
       "</div>"
      ],
      "text/plain": [
       "             ACCT_ID   COMM    EQUITY\n",
       "558109  ACCTID558109   nan%   858.00%\n",
       "558110  ACCTID558110   nan% 84807.47%\n",
       "558111  ACCTID558111 25.15% 37868.63%\n",
       "558112  ACCTID558112 21.76% 46015.88%\n",
       "558113  ACCTID558113   nan%  6368.76%"
      ]
     },
     "execution_count": 51,
     "metadata": {},
     "output_type": "execute_result"
    }
   ],
   "source": [
    "df.tail()"
   ]
  },
  {
   "cell_type": "code",
   "execution_count": 52,
   "metadata": {
    "collapsed": true
   },
   "outputs": [],
   "source": [
    "df.fillna(0, inplace=True)\n",
    "equityBins = [-np.inf, 0, 500, 2000, 5000, 10000, 25000, 100000, 250000, 500000, 1000000, 5000000, 10000000, np.inf]\n",
    "equityLabels = ['Equity < 0', \n",
    "                'Equity 0 - 500', \n",
    "                'Equity 500 - 2000', \n",
    "                'Equity 2000 - 5000', \n",
    "                'Equity 5000 - 10000', \n",
    "                'Equity 10K - 25K', \n",
    "                'Equity 25K - 100K', \n",
    "                'Equity 100K - 250K', \n",
    "                'Equity 250K - 500K', \n",
    "                'Equity 500K - 1M', \n",
    "                'Equity 1M - 5M', \n",
    "                'Equity 5M - 10M', \n",
    "                'Equity > 10M']"
   ]
  },
  {
   "cell_type": "code",
   "execution_count": 53,
   "metadata": {
    "collapsed": true
   },
   "outputs": [],
   "source": [
    "cnt = 0\n",
    "equityOrder = dict()\n",
    "for e in equityLabels:\n",
    "    equityOrder[e] = cnt\n",
    "    cnt += 1"
   ]
  },
  {
   "cell_type": "code",
   "execution_count": 54,
   "metadata": {
    "collapsed": true
   },
   "outputs": [],
   "source": [
    "df['equityGroups'] = pd.cut(df.EQUITY, equityBins, labels=equityLabels, right=False)"
   ]
  },
  {
   "cell_type": "code",
   "execution_count": 55,
   "metadata": {
    "collapsed": true
   },
   "outputs": [],
   "source": [
    "df['order'] = df.equityGroups.map(equityOrder)"
   ]
  },
  {
   "cell_type": "code",
   "execution_count": 56,
   "metadata": {
    "collapsed": false
   },
   "outputs": [],
   "source": [
    "resDf = df.groupby('equityGroups').agg({'ACCT_ID': {'cnt': 'size'}, \n",
    "                                        'COMM': 'sum', \n",
    "                                        'order': 'first'}).sort_values(('order', 'first')).apply(np.round)"
   ]
  },
  {
   "cell_type": "code",
   "execution_count": 57,
   "metadata": {
    "collapsed": false
   },
   "outputs": [
    {
     "data": {
      "text/plain": [
       "MultiIndex(levels=[['COMM', 'ACCT_ID', 'order'], ['cnt', 'first', 'sum']],\n",
       "           labels=[[0, 1, 2], [2, 0, 1]])"
      ]
     },
     "execution_count": 57,
     "metadata": {},
     "output_type": "execute_result"
    }
   ],
   "source": [
    "resDf.columns"
   ]
  },
  {
   "cell_type": "code",
   "execution_count": 58,
   "metadata": {
    "collapsed": false
   },
   "outputs": [
    {
     "data": {
      "text/html": [
       "<div>\n",
       "<table border=\"1\" class=\"dataframe\">\n",
       "  <thead>\n",
       "    <tr>\n",
       "      <th></th>\n",
       "      <th colspan=\"2\" halign=\"left\">ACCT_ID</th>\n",
       "      <th colspan=\"2\" halign=\"left\">COMM</th>\n",
       "      <th>order</th>\n",
       "    </tr>\n",
       "    <tr>\n",
       "      <th></th>\n",
       "      <th>cnt</th>\n",
       "      <th>cnt%</th>\n",
       "      <th>sum</th>\n",
       "      <th>sum%</th>\n",
       "      <th>first</th>\n",
       "    </tr>\n",
       "    <tr>\n",
       "      <th>equityGroups</th>\n",
       "      <th></th>\n",
       "      <th></th>\n",
       "      <th></th>\n",
       "      <th></th>\n",
       "      <th></th>\n",
       "    </tr>\n",
       "  </thead>\n",
       "  <tbody>\n",
       "    <tr>\n",
       "      <th>Total</th>\n",
       "      <td>558114</td>\n",
       "      <td>100.00%</td>\n",
       "      <td>5311890.00%</td>\n",
       "      <td>100.00%</td>\n",
       "      <td>13</td>\n",
       "    </tr>\n",
       "  </tbody>\n",
       "</table>\n",
       "</div>"
      ],
      "text/plain": [
       "             ACCT_ID                COMM         order\n",
       "                 cnt    cnt%         sum    sum% first\n",
       "equityGroups                                          \n",
       "Total         558114 100.00% 5311890.00% 100.00%    13"
      ]
     },
     "execution_count": 58,
     "metadata": {},
     "output_type": "execute_result"
    }
   ],
   "source": [
    "totalDf = pd.DataFrame({('order', 'first'): 13,\n",
    "                        ('ACCT_ID', 'cnt'): resDf[('ACCT_ID', 'cnt')].sum(),\n",
    "                        ('ACCT_ID', 'cnt%'): 100.00,\n",
    "                        ('COMM', 'sum'): resDf[('COMM', 'sum')].sum(),\n",
    "                        ('COMM', 'sum%'): 100.00}, index=['Total'])\n",
    "totalDf.index.name = 'equityGroups'\n",
    "totalDf"
   ]
  },
  {
   "cell_type": "code",
   "execution_count": 59,
   "metadata": {
    "collapsed": false
   },
   "outputs": [],
   "source": [
    "resDf[('ACCT_ID', 'cnt%')] = (resDf[('ACCT_ID', 'cnt')] / resDf[('ACCT_ID', 'cnt')].sum())*100"
   ]
  },
  {
   "cell_type": "code",
   "execution_count": 60,
   "metadata": {
    "collapsed": false
   },
   "outputs": [],
   "source": [
    "resDf[('COMM', 'sum%')] = (resDf[('COMM', 'sum')] / resDf[('COMM', 'sum')].sum())*100"
   ]
  },
  {
   "cell_type": "code",
   "execution_count": 61,
   "metadata": {
    "collapsed": false,
    "scrolled": true
   },
   "outputs": [],
   "source": [
    "resDf[('COMM', 'sum')] = resDf[('COMM', 'sum')].astype('int64')"
   ]
  },
  {
   "cell_type": "code",
   "execution_count": 62,
   "metadata": {
    "collapsed": false,
    "scrolled": true
   },
   "outputs": [],
   "source": [
    "resDf.index = resDf.index.get_values()"
   ]
  },
  {
   "cell_type": "code",
   "execution_count": 63,
   "metadata": {
    "collapsed": false
   },
   "outputs": [],
   "source": [
    "#resDf"
   ]
  },
  {
   "cell_type": "code",
   "execution_count": 64,
   "metadata": {
    "collapsed": false
   },
   "outputs": [],
   "source": [
    "allDf = pd.concat([resDf, totalDf])"
   ]
  },
  {
   "cell_type": "code",
   "execution_count": 44,
   "metadata": {
    "collapsed": false
   },
   "outputs": [
    {
     "data": {
      "text/html": [
       "<div>\n",
       "<table border=\"1\" class=\"dataframe\">\n",
       "  <thead>\n",
       "    <tr>\n",
       "      <th></th>\n",
       "      <th colspan=\"2\" halign=\"left\">ACCT_ID</th>\n",
       "      <th colspan=\"2\" halign=\"left\">COMM</th>\n",
       "      <th>order</th>\n",
       "    </tr>\n",
       "    <tr>\n",
       "      <th></th>\n",
       "      <th>cnt</th>\n",
       "      <th>cnt%</th>\n",
       "      <th>sum</th>\n",
       "      <th>sum%</th>\n",
       "      <th>first</th>\n",
       "    </tr>\n",
       "  </thead>\n",
       "  <tbody>\n",
       "    <tr>\n",
       "      <th>Equity &lt; 0</th>\n",
       "      <td>11614</td>\n",
       "      <td>2.08%</td>\n",
       "      <td>7607</td>\n",
       "      <td>0.14%</td>\n",
       "      <td>0</td>\n",
       "    </tr>\n",
       "    <tr>\n",
       "      <th>Equity 0 - 500</th>\n",
       "      <td>222629</td>\n",
       "      <td>39.89%</td>\n",
       "      <td>692874</td>\n",
       "      <td>13.04%</td>\n",
       "      <td>1</td>\n",
       "    </tr>\n",
       "    <tr>\n",
       "      <th>Equity 500 - 2000</th>\n",
       "      <td>32371</td>\n",
       "      <td>5.80%</td>\n",
       "      <td>98740</td>\n",
       "      <td>1.86%</td>\n",
       "      <td>2</td>\n",
       "    </tr>\n",
       "    <tr>\n",
       "      <th>Equity 2000 - 5000</th>\n",
       "      <td>41213</td>\n",
       "      <td>7.38%</td>\n",
       "      <td>130125</td>\n",
       "      <td>2.45%</td>\n",
       "      <td>3</td>\n",
       "    </tr>\n",
       "    <tr>\n",
       "      <th>Equity 5000 - 10000</th>\n",
       "      <td>47188</td>\n",
       "      <td>8.45%</td>\n",
       "      <td>146888</td>\n",
       "      <td>2.77%</td>\n",
       "      <td>4</td>\n",
       "    </tr>\n",
       "    <tr>\n",
       "      <th>Equity 10K - 25K</th>\n",
       "      <td>62928</td>\n",
       "      <td>11.28%</td>\n",
       "      <td>320994</td>\n",
       "      <td>6.04%</td>\n",
       "      <td>5</td>\n",
       "    </tr>\n",
       "    <tr>\n",
       "      <th>Equity 25K - 100K</th>\n",
       "      <td>79799</td>\n",
       "      <td>14.30%</td>\n",
       "      <td>667918</td>\n",
       "      <td>12.57%</td>\n",
       "      <td>6</td>\n",
       "    </tr>\n",
       "    <tr>\n",
       "      <th>Equity 100K - 250K</th>\n",
       "      <td>32571</td>\n",
       "      <td>5.84%</td>\n",
       "      <td>584122</td>\n",
       "      <td>11.00%</td>\n",
       "      <td>7</td>\n",
       "    </tr>\n",
       "    <tr>\n",
       "      <th>Equity 250K - 500K</th>\n",
       "      <td>13899</td>\n",
       "      <td>2.49%</td>\n",
       "      <td>450668</td>\n",
       "      <td>8.48%</td>\n",
       "      <td>8</td>\n",
       "    </tr>\n",
       "    <tr>\n",
       "      <th>Equity 500K - 1M</th>\n",
       "      <td>7286</td>\n",
       "      <td>1.31%</td>\n",
       "      <td>395422</td>\n",
       "      <td>7.44%</td>\n",
       "      <td>9</td>\n",
       "    </tr>\n",
       "    <tr>\n",
       "      <th>Equity 1M - 5M</th>\n",
       "      <td>5456</td>\n",
       "      <td>0.98%</td>\n",
       "      <td>790608</td>\n",
       "      <td>14.88%</td>\n",
       "      <td>10</td>\n",
       "    </tr>\n",
       "    <tr>\n",
       "      <th>Equity 5M - 10M</th>\n",
       "      <td>674</td>\n",
       "      <td>0.12%</td>\n",
       "      <td>275889</td>\n",
       "      <td>5.19%</td>\n",
       "      <td>11</td>\n",
       "    </tr>\n",
       "    <tr>\n",
       "      <th>Equity &gt; 10M</th>\n",
       "      <td>486</td>\n",
       "      <td>0.09%</td>\n",
       "      <td>750035</td>\n",
       "      <td>14.12%</td>\n",
       "      <td>12</td>\n",
       "    </tr>\n",
       "    <tr>\n",
       "      <th>Total</th>\n",
       "      <td>558114</td>\n",
       "      <td>100.00%</td>\n",
       "      <td>5311890</td>\n",
       "      <td>100.00%</td>\n",
       "      <td>13</td>\n",
       "    </tr>\n",
       "  </tbody>\n",
       "</table>\n",
       "</div>"
      ],
      "text/plain": [
       "                    ACCT_ID             COMM         order\n",
       "                        cnt    cnt%      sum    sum% first\n",
       "Equity < 0            11614   2.08%     7607   0.14%     0\n",
       "Equity 0 - 500       222629  39.89%   692874  13.04%     1\n",
       "Equity 500 - 2000     32371   5.80%    98740   1.86%     2\n",
       "Equity 2000 - 5000    41213   7.38%   130125   2.45%     3\n",
       "Equity 5000 - 10000   47188   8.45%   146888   2.77%     4\n",
       "Equity 10K - 25K      62928  11.28%   320994   6.04%     5\n",
       "Equity 25K - 100K     79799  14.30%   667918  12.57%     6\n",
       "Equity 100K - 250K    32571   5.84%   584122  11.00%     7\n",
       "Equity 250K - 500K    13899   2.49%   450668   8.48%     8\n",
       "Equity 500K - 1M       7286   1.31%   395422   7.44%     9\n",
       "Equity 1M - 5M         5456   0.98%   790608  14.88%    10\n",
       "Equity 5M - 10M         674   0.12%   275889   5.19%    11\n",
       "Equity > 10M            486   0.09%   750035  14.12%    12\n",
       "Total                558114 100.00%  5311890 100.00%    13"
      ]
     },
     "execution_count": 44,
     "metadata": {},
     "output_type": "execute_result"
    }
   ],
   "source": [
    "allDf"
   ]
  },
  {
   "cell_type": "code",
   "execution_count": null,
   "metadata": {
    "collapsed": true
   },
   "outputs": [],
   "source": []
  }
 ],
 "metadata": {
  "kernelspec": {
   "display_name": "Python 3",
   "language": "python",
   "name": "python3"
  },
  "language_info": {
   "codemirror_mode": {
    "name": "ipython",
    "version": 3
   },
   "file_extension": ".py",
   "mimetype": "text/x-python",
   "name": "python",
   "nbconvert_exporter": "python",
   "pygments_lexer": "ipython3",
   "version": "3.5.1"
  }
 },
 "nbformat": 4,
 "nbformat_minor": 0
}
