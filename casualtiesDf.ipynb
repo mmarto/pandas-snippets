{
 "cells": [
  {
   "cell_type": "code",
   "execution_count": 1,
   "metadata": {
    "collapsed": true
   },
   "outputs": [],
   "source": [
    "import pandas as pd\n",
    "import numpy as np\n",
    "import matplotlib.pyplot as plt\n",
    "# source: https://data.gov.uk/dataset/road-accidents-safety-data/resource/8ecee6ac-33fd-4f5b-8973-e900cc65d24a\n",
    "dwLink = 'https://dl.dropboxusercontent.com/u/45463862/Casualties0514.csv.tar.gz'\n",
    "descDwLink = 'https://dl.dropboxusercontent.com/u/45463862/Road-Accident-Safety-Data-Guide-1979-2004.xls'"
   ]
  },
  {
   "cell_type": "code",
   "execution_count": 2,
   "metadata": {
    "collapsed": false
   },
   "outputs": [],
   "source": [
    "df = pd.read_csv(dwLink, compression='gzip')\n",
    "descDict = pd.read_excel(descDwLink, sheetname=None)"
   ]
  },
  {
   "cell_type": "code",
   "execution_count": 3,
   "metadata": {
    "collapsed": false
   },
   "outputs": [
    {
     "name": "stdout",
     "output_type": "stream",
     "text": [
      "<class 'pandas.core.frame.DataFrame'>\n",
      "Int64Index: 2216720 entries, 0 to 2216719\n",
      "Data columns (total 15 columns):\n",
      "Casualties0514.csv                    object\n",
      "Vehicle_Reference                     int64\n",
      "Casualty_Reference                    int64\n",
      "Casualty_Class                        int64\n",
      "Sex_of_Casualty                       int64\n",
      "Age_of_Casualty                       int64\n",
      "Age_Band_of_Casualty                  int64\n",
      "Casualty_Severity                     int64\n",
      "Pedestrian_Location                   int64\n",
      "Pedestrian_Movement                   int64\n",
      "Car_Passenger                         int64\n",
      "Bus_or_Coach_Passenger                int64\n",
      "Pedestrian_Road_Maintenance_Worker    int64\n",
      "Casualty_Type                         int64\n",
      "Casualty_Home_Area_Type               int64\n",
      "dtypes: int64(14), object(1)\n",
      "memory usage: 262.1+ MB\n"
     ]
    }
   ],
   "source": [
    "df.info()"
   ]
  },
  {
   "cell_type": "code",
   "execution_count": 4,
   "metadata": {
    "collapsed": false
   },
   "outputs": [
    {
     "data": {
      "text/html": [
       "<div>\n",
       "<table border=\"1\" class=\"dataframe\">\n",
       "  <thead>\n",
       "    <tr style=\"text-align: right;\">\n",
       "      <th></th>\n",
       "      <th>Casualties0514.csv</th>\n",
       "      <th>Vehicle_Reference</th>\n",
       "      <th>Casualty_Reference</th>\n",
       "      <th>Casualty_Class</th>\n",
       "      <th>Sex_of_Casualty</th>\n",
       "      <th>Age_of_Casualty</th>\n",
       "      <th>Age_Band_of_Casualty</th>\n",
       "      <th>Casualty_Severity</th>\n",
       "      <th>Pedestrian_Location</th>\n",
       "      <th>Pedestrian_Movement</th>\n",
       "      <th>Car_Passenger</th>\n",
       "      <th>Bus_or_Coach_Passenger</th>\n",
       "      <th>Pedestrian_Road_Maintenance_Worker</th>\n",
       "      <th>Casualty_Type</th>\n",
       "      <th>Casualty_Home_Area_Type</th>\n",
       "    </tr>\n",
       "  </thead>\n",
       "  <tbody>\n",
       "    <tr>\n",
       "      <th>0</th>\n",
       "      <td>200501BS00001</td>\n",
       "      <td>1</td>\n",
       "      <td>1</td>\n",
       "      <td>3</td>\n",
       "      <td>1</td>\n",
       "      <td>37</td>\n",
       "      <td>7</td>\n",
       "      <td>2</td>\n",
       "      <td>1</td>\n",
       "      <td>1</td>\n",
       "      <td>0</td>\n",
       "      <td>0</td>\n",
       "      <td>-1</td>\n",
       "      <td>0</td>\n",
       "      <td>1</td>\n",
       "    </tr>\n",
       "    <tr>\n",
       "      <th>1</th>\n",
       "      <td>200501BS00002</td>\n",
       "      <td>1</td>\n",
       "      <td>1</td>\n",
       "      <td>2</td>\n",
       "      <td>1</td>\n",
       "      <td>37</td>\n",
       "      <td>7</td>\n",
       "      <td>3</td>\n",
       "      <td>0</td>\n",
       "      <td>0</td>\n",
       "      <td>0</td>\n",
       "      <td>4</td>\n",
       "      <td>-1</td>\n",
       "      <td>11</td>\n",
       "      <td>1</td>\n",
       "    </tr>\n",
       "    <tr>\n",
       "      <th>2</th>\n",
       "      <td>200501BS00003</td>\n",
       "      <td>2</td>\n",
       "      <td>1</td>\n",
       "      <td>1</td>\n",
       "      <td>1</td>\n",
       "      <td>62</td>\n",
       "      <td>9</td>\n",
       "      <td>3</td>\n",
       "      <td>0</td>\n",
       "      <td>0</td>\n",
       "      <td>0</td>\n",
       "      <td>0</td>\n",
       "      <td>-1</td>\n",
       "      <td>9</td>\n",
       "      <td>1</td>\n",
       "    </tr>\n",
       "    <tr>\n",
       "      <th>3</th>\n",
       "      <td>200501BS00004</td>\n",
       "      <td>1</td>\n",
       "      <td>1</td>\n",
       "      <td>3</td>\n",
       "      <td>1</td>\n",
       "      <td>30</td>\n",
       "      <td>6</td>\n",
       "      <td>3</td>\n",
       "      <td>5</td>\n",
       "      <td>2</td>\n",
       "      <td>0</td>\n",
       "      <td>0</td>\n",
       "      <td>-1</td>\n",
       "      <td>0</td>\n",
       "      <td>1</td>\n",
       "    </tr>\n",
       "    <tr>\n",
       "      <th>4</th>\n",
       "      <td>200501BS00005</td>\n",
       "      <td>1</td>\n",
       "      <td>1</td>\n",
       "      <td>1</td>\n",
       "      <td>1</td>\n",
       "      <td>49</td>\n",
       "      <td>8</td>\n",
       "      <td>3</td>\n",
       "      <td>0</td>\n",
       "      <td>0</td>\n",
       "      <td>0</td>\n",
       "      <td>0</td>\n",
       "      <td>-1</td>\n",
       "      <td>3</td>\n",
       "      <td>-1</td>\n",
       "    </tr>\n",
       "  </tbody>\n",
       "</table>\n",
       "</div>"
      ],
      "text/plain": [
       "  Casualties0514.csv  Vehicle_Reference  Casualty_Reference  Casualty_Class  \\\n",
       "0      200501BS00001                  1                   1               3   \n",
       "1      200501BS00002                  1                   1               2   \n",
       "2      200501BS00003                  2                   1               1   \n",
       "3      200501BS00004                  1                   1               3   \n",
       "4      200501BS00005                  1                   1               1   \n",
       "\n",
       "   Sex_of_Casualty  Age_of_Casualty  Age_Band_of_Casualty  Casualty_Severity  \\\n",
       "0                1               37                     7                  2   \n",
       "1                1               37                     7                  3   \n",
       "2                1               62                     9                  3   \n",
       "3                1               30                     6                  3   \n",
       "4                1               49                     8                  3   \n",
       "\n",
       "   Pedestrian_Location  Pedestrian_Movement  Car_Passenger  \\\n",
       "0                    1                    1              0   \n",
       "1                    0                    0              0   \n",
       "2                    0                    0              0   \n",
       "3                    5                    2              0   \n",
       "4                    0                    0              0   \n",
       "\n",
       "   Bus_or_Coach_Passenger  Pedestrian_Road_Maintenance_Worker  Casualty_Type  \\\n",
       "0                       0                                  -1              0   \n",
       "1                       4                                  -1             11   \n",
       "2                       0                                  -1              9   \n",
       "3                       0                                  -1              0   \n",
       "4                       0                                  -1              3   \n",
       "\n",
       "   Casualty_Home_Area_Type  \n",
       "0                        1  \n",
       "1                        1  \n",
       "2                        1  \n",
       "3                        1  \n",
       "4                       -1  "
      ]
     },
     "execution_count": 4,
     "metadata": {},
     "output_type": "execute_result"
    }
   ],
   "source": [
    "df.head()"
   ]
  },
  {
   "cell_type": "code",
   "execution_count": 5,
   "metadata": {
    "collapsed": false
   },
   "outputs": [],
   "source": [
    "#df.Vehicle_Reference.unique()"
   ]
  },
  {
   "cell_type": "code",
   "execution_count": 5,
   "metadata": {
    "collapsed": false
   },
   "outputs": [
    {
     "data": {
      "text/plain": [
       "Index(['Casualties0514.csv', 'Vehicle_Reference', 'Casualty_Reference',\n",
       "       'Casualty_Class', 'Sex_of_Casualty', 'Age_of_Casualty',\n",
       "       'Age_Band_of_Casualty', 'Casualty_Severity', 'Pedestrian_Location',\n",
       "       'Pedestrian_Movement', 'Car_Passenger', 'Bus_or_Coach_Passenger',\n",
       "       'Pedestrian_Road_Maintenance_Worker', 'Casualty_Type',\n",
       "       'Casualty_Home_Area_Type'],\n",
       "      dtype='object')"
      ]
     },
     "execution_count": 5,
     "metadata": {},
     "output_type": "execute_result"
    }
   ],
   "source": [
    "df.columns"
   ]
  },
  {
   "cell_type": "code",
   "execution_count": 6,
   "metadata": {
    "collapsed": false
   },
   "outputs": [],
   "source": [
    "df = df[['Casualties0514.csv', 'Vehicle_Reference', 'Casualty_Reference',\n",
    "       'Casualty_Class', 'Sex_of_Casualty', 'Age_of_Casualty', 'Age_Band_of_Casualty',\n",
    "       'Casualty_Severity', 'Casualty_Type',\n",
    "       'Casualty_Home_Area_Type']]"
   ]
  },
  {
   "cell_type": "code",
   "execution_count": 7,
   "metadata": {
    "collapsed": true
   },
   "outputs": [],
   "source": [
    "#df.drop(['Casualty_Reference'], axis=1, inplace=True)"
   ]
  },
  {
   "cell_type": "code",
   "execution_count": 8,
   "metadata": {
    "collapsed": false
   },
   "outputs": [
    {
     "name": "stdout",
     "output_type": "stream",
     "text": [
      "Police Force\n",
      "Ped Movement\n",
      "Ped Road Maintenance Worker\n",
      "Weather\n",
      "Urban Rural\n",
      "Special Conditions at Site\n",
      "Police Officer Attend\n",
      "Car Passenger\n",
      "Vehicle Type\n",
      "Carriageway Hazards\n",
      "Ped Location\n",
      "Journey Purpose\n",
      "Ped Cross - Human\n",
      "Veh Leaving Carriageway\n",
      "Junction Control\n",
      "Casualty Severity\n",
      "Hit Object Off Carriageway\n",
      "Light Conditions\n",
      "Ped Cross - Physical\n",
      "Casualty Class\n",
      "1st Point of Impact\n",
      "Bus Passenger\n",
      "Casualty Type\n",
      "Vehicle Location\n",
      "Towing and Articulation\n",
      "Local Authority (District)\n",
      "IMD Decile\n",
      "Vehicle Manoeuvre\n",
      "Was Vehicle Left Hand Drive\n",
      "Road Type\n",
      "Accident Severity\n",
      "Export Variables\n",
      "Day of Week\n",
      "Junction Detail\n",
      "Home Area Type\n",
      "Age Band\n",
      "Hit Object in Carriageway\n",
      "Sex of Casualty\n",
      "1st Road Class\n",
      "Vehicle Propulsion Code\n",
      "2nd Road Class\n",
      "Introduction\n",
      "Road Surface\n",
      "Junction Location\n",
      "Skidding and Overturning\n",
      "Local Authority (Highway)\n",
      "Sex of Driver\n"
     ]
    }
   ],
   "source": [
    "for k in descDict.keys():\n",
    "    print(k)"
   ]
  },
  {
   "cell_type": "code",
   "execution_count": 9,
   "metadata": {
    "collapsed": false
   },
   "outputs": [
    {
     "data": {
      "text/plain": [
       "code\n",
       "1    Driver or rider\n",
       "2          Passenger\n",
       "3         Pedestrian\n",
       "Name: label, dtype: object"
      ]
     },
     "execution_count": 9,
     "metadata": {},
     "output_type": "execute_result"
    }
   ],
   "source": [
    "descDict['Casualty Class'].set_index('code')['label']"
   ]
  },
  {
   "cell_type": "code",
   "execution_count": 10,
   "metadata": {
    "collapsed": false
   },
   "outputs": [],
   "source": [
    "#df.head()"
   ]
  },
  {
   "cell_type": "code",
   "execution_count": 11,
   "metadata": {
    "collapsed": false
   },
   "outputs": [],
   "source": [
    "#df.Casualty_Class.map?"
   ]
  },
  {
   "cell_type": "code",
   "execution_count": 12,
   "metadata": {
    "collapsed": false
   },
   "outputs": [],
   "source": [
    "#df.Casualty_Reference.unique()"
   ]
  },
  {
   "cell_type": "code",
   "execution_count": 13,
   "metadata": {
    "collapsed": false
   },
   "outputs": [],
   "source": [
    "df['Casualty_Class_Txt'] = df.Casualty_Class.map(descDict['Casualty Class'].set_index('code')['label'])"
   ]
  },
  {
   "cell_type": "code",
   "execution_count": 14,
   "metadata": {
    "collapsed": false
   },
   "outputs": [
    {
     "data": {
      "text/plain": [
       "0         Pedestrian\n",
       "1          Passenger\n",
       "2    Driver or rider\n",
       "3         Pedestrian\n",
       "4    Driver or rider\n",
       "Name: Casualty_Class_Txt, dtype: object"
      ]
     },
     "execution_count": 14,
     "metadata": {},
     "output_type": "execute_result"
    }
   ],
   "source": [
    "df.Casualty_Class_Txt.head()"
   ]
  },
  {
   "cell_type": "code",
   "execution_count": 16,
   "metadata": {
    "collapsed": false
   },
   "outputs": [
    {
     "data": {
      "text/plain": [
       "Driver or rider    1398378\n",
       "Passenger           542477\n",
       "Pedestrian          275865\n",
       "Name: Casualty_Class_Txt, dtype: int64"
      ]
     },
     "execution_count": 16,
     "metadata": {},
     "output_type": "execute_result"
    }
   ],
   "source": [
    "df.Casualty_Class_Txt.value_counts()"
   ]
  },
  {
   "cell_type": "code",
   "execution_count": 17,
   "metadata": {
    "collapsed": false
   },
   "outputs": [
    {
     "data": {
      "text/plain": [
       "array(['Pedestrian', 'Passenger', 'Driver or rider'], dtype=object)"
      ]
     },
     "execution_count": 17,
     "metadata": {},
     "output_type": "execute_result"
    }
   ],
   "source": [
    "df.Casualty_Class_Txt.unique()"
   ]
  },
  {
   "cell_type": "code",
   "execution_count": 18,
   "metadata": {
    "collapsed": false
   },
   "outputs": [
    {
     "name": "stdout",
     "output_type": "stream",
     "text": [
      "<class 'pandas.core.frame.DataFrame'>\n",
      "Int64Index: 2216720 entries, 0 to 2216719\n",
      "Data columns (total 11 columns):\n",
      "Casualties0514.csv         object\n",
      "Vehicle_Reference          int64\n",
      "Casualty_Reference         int64\n",
      "Casualty_Class             int64\n",
      "Sex_of_Casualty            int64\n",
      "Age_of_Casualty            int64\n",
      "Age_Band_of_Casualty       int64\n",
      "Casualty_Severity          int64\n",
      "Casualty_Type              int64\n",
      "Casualty_Home_Area_Type    int64\n",
      "Casualty_Class_Txt         object\n",
      "dtypes: int64(9), object(2)\n",
      "memory usage: 186.0+ MB\n"
     ]
    }
   ],
   "source": [
    "df.info()"
   ]
  },
  {
   "cell_type": "code",
   "execution_count": 19,
   "metadata": {
    "collapsed": false
   },
   "outputs": [
    {
     "name": "stdout",
     "output_type": "stream",
     "text": [
      "<class 'pandas.core.frame.DataFrame'>\n",
      "Int64Index: 576123 entries, 8 to 2216719\n",
      "Data columns (total 11 columns):\n",
      "Casualties0514.csv         576123 non-null object\n",
      "Vehicle_Reference          576123 non-null int64\n",
      "Casualty_Reference         576123 non-null int64\n",
      "Casualty_Class             576123 non-null int64\n",
      "Sex_of_Casualty            576123 non-null int64\n",
      "Age_of_Casualty            576123 non-null int64\n",
      "Age_Band_of_Casualty       576123 non-null int64\n",
      "Casualty_Severity          576123 non-null int64\n",
      "Casualty_Type              576123 non-null int64\n",
      "Casualty_Home_Area_Type    576123 non-null int64\n",
      "Casualty_Class_Txt         576123 non-null object\n",
      "dtypes: int64(9), object(2)\n",
      "memory usage: 48.4+ MB\n"
     ]
    }
   ],
   "source": [
    "df[df['Casualties0514.csv'].duplicated()].info()"
   ]
  },
  {
   "cell_type": "code",
   "execution_count": 20,
   "metadata": {
    "collapsed": false
   },
   "outputs": [],
   "source": [
    "df['Year'] = df['Casualties0514.csv'].apply(lambda x: x[:4]).astype(int)"
   ]
  },
  {
   "cell_type": "code",
   "execution_count": 21,
   "metadata": {
    "collapsed": false
   },
   "outputs": [
    {
     "name": "stdout",
     "output_type": "stream",
     "text": [
      "<class 'pandas.core.frame.DataFrame'>\n",
      "Int64Index: 2216720 entries, 0 to 2216719\n",
      "Data columns (total 12 columns):\n",
      "Casualties0514.csv         object\n",
      "Vehicle_Reference          int64\n",
      "Casualty_Reference         int64\n",
      "Casualty_Class             int64\n",
      "Sex_of_Casualty            int64\n",
      "Age_of_Casualty            int64\n",
      "Age_Band_of_Casualty       int64\n",
      "Casualty_Severity          int64\n",
      "Casualty_Type              int64\n",
      "Casualty_Home_Area_Type    int64\n",
      "Casualty_Class_Txt         object\n",
      "Year                       int32\n",
      "dtypes: int32(1), int64(9), object(2)\n",
      "memory usage: 194.5+ MB\n"
     ]
    }
   ],
   "source": [
    "df.info()"
   ]
  },
  {
   "cell_type": "code",
   "execution_count": 22,
   "metadata": {
    "collapsed": false
   },
   "outputs": [
    {
     "data": {
      "text/html": [
       "<div>\n",
       "<table border=\"1\" class=\"dataframe\">\n",
       "  <thead>\n",
       "    <tr style=\"text-align: right;\">\n",
       "      <th>Year</th>\n",
       "      <th>2005</th>\n",
       "      <th>2006</th>\n",
       "      <th>2007</th>\n",
       "      <th>2008</th>\n",
       "      <th>2009</th>\n",
       "      <th>2010</th>\n",
       "      <th>2011</th>\n",
       "      <th>2012</th>\n",
       "      <th>2013</th>\n",
       "      <th>2014</th>\n",
       "    </tr>\n",
       "    <tr>\n",
       "      <th>Casualty_Class_Txt</th>\n",
       "      <th></th>\n",
       "      <th></th>\n",
       "      <th></th>\n",
       "      <th></th>\n",
       "      <th></th>\n",
       "      <th></th>\n",
       "      <th></th>\n",
       "      <th></th>\n",
       "      <th></th>\n",
       "      <th></th>\n",
       "    </tr>\n",
       "  </thead>\n",
       "  <tbody>\n",
       "    <tr>\n",
       "      <th>Driver or rider</th>\n",
       "      <td>168209</td>\n",
       "      <td>161523</td>\n",
       "      <td>155440</td>\n",
       "      <td>144941</td>\n",
       "      <td>139671</td>\n",
       "      <td>131200</td>\n",
       "      <td>129047</td>\n",
       "      <td>124418</td>\n",
       "      <td>118208</td>\n",
       "      <td>125721</td>\n",
       "    </tr>\n",
       "    <tr>\n",
       "      <th>Passenger</th>\n",
       "      <td>69527</td>\n",
       "      <td>65899</td>\n",
       "      <td>62149</td>\n",
       "      <td>57482</td>\n",
       "      <td>55588</td>\n",
       "      <td>51603</td>\n",
       "      <td>48705</td>\n",
       "      <td>46087</td>\n",
       "      <td>41429</td>\n",
       "      <td>44008</td>\n",
       "    </tr>\n",
       "    <tr>\n",
       "      <th>Pedestrian</th>\n",
       "      <td>33281</td>\n",
       "      <td>30982</td>\n",
       "      <td>30191</td>\n",
       "      <td>28482</td>\n",
       "      <td>26887</td>\n",
       "      <td>25845</td>\n",
       "      <td>26198</td>\n",
       "      <td>25218</td>\n",
       "      <td>24033</td>\n",
       "      <td>24748</td>\n",
       "    </tr>\n",
       "  </tbody>\n",
       "</table>\n",
       "</div>"
      ],
      "text/plain": [
       "Year                  2005    2006    2007    2008    2009    2010    2011  \\\n",
       "Casualty_Class_Txt                                                           \n",
       "Driver or rider     168209  161523  155440  144941  139671  131200  129047   \n",
       "Passenger            69527   65899   62149   57482   55588   51603   48705   \n",
       "Pedestrian           33281   30982   30191   28482   26887   25845   26198   \n",
       "\n",
       "Year                  2012    2013    2014  \n",
       "Casualty_Class_Txt                          \n",
       "Driver or rider     124418  118208  125721  \n",
       "Passenger            46087   41429   44008  \n",
       "Pedestrian           25218   24033   24748  "
      ]
     },
     "execution_count": 22,
     "metadata": {},
     "output_type": "execute_result"
    }
   ],
   "source": [
    "df.groupby(['Year', 'Casualty_Class_Txt']).size().unstack(0)"
   ]
  },
  {
   "cell_type": "code",
   "execution_count": 22,
   "metadata": {
    "collapsed": false
   },
   "outputs": [],
   "source": [
    "#df.head()"
   ]
  },
  {
   "cell_type": "code",
   "execution_count": 23,
   "metadata": {
    "collapsed": false
   },
   "outputs": [
    {
     "data": {
      "text/plain": [
       "code\n",
       " 1                            Male\n",
       " 2                          Female\n",
       "-1    Data missing or out of range\n",
       "Name: label, dtype: object"
      ]
     },
     "execution_count": 23,
     "metadata": {},
     "output_type": "execute_result"
    }
   ],
   "source": [
    "descDict['Sex of Casualty'].set_index('code')['label']"
   ]
  },
  {
   "cell_type": "code",
   "execution_count": 24,
   "metadata": {
    "collapsed": false
   },
   "outputs": [],
   "source": [
    "df.replace(-1, np.nan, inplace=True)"
   ]
  },
  {
   "cell_type": "code",
   "execution_count": 25,
   "metadata": {
    "collapsed": false
   },
   "outputs": [
    {
     "data": {
      "text/plain": [
       "array([  1.,   2.,  nan])"
      ]
     },
     "execution_count": 25,
     "metadata": {},
     "output_type": "execute_result"
    }
   ],
   "source": [
    "df.Sex_of_Casualty.unique()"
   ]
  },
  {
   "cell_type": "code",
   "execution_count": 26,
   "metadata": {
    "collapsed": false
   },
   "outputs": [],
   "source": [
    "df['Sex_of_Casualty'] = df.Sex_of_Casualty.map(descDict['Sex of Casualty'].set_index('code')['label'])"
   ]
  },
  {
   "cell_type": "code",
   "execution_count": 27,
   "metadata": {
    "collapsed": false
   },
   "outputs": [
    {
     "data": {
      "text/html": [
       "<div>\n",
       "<table border=\"1\" class=\"dataframe\">\n",
       "  <thead>\n",
       "    <tr style=\"text-align: right;\">\n",
       "      <th>Year</th>\n",
       "      <th>2005</th>\n",
       "      <th>2006</th>\n",
       "      <th>2007</th>\n",
       "      <th>2008</th>\n",
       "      <th>2009</th>\n",
       "      <th>2010</th>\n",
       "      <th>2011</th>\n",
       "      <th>2012</th>\n",
       "      <th>2013</th>\n",
       "      <th>2014</th>\n",
       "    </tr>\n",
       "    <tr>\n",
       "      <th>Sex_of_Casualty</th>\n",
       "      <th></th>\n",
       "      <th></th>\n",
       "      <th></th>\n",
       "      <th></th>\n",
       "      <th></th>\n",
       "      <th></th>\n",
       "      <th></th>\n",
       "      <th></th>\n",
       "      <th></th>\n",
       "      <th></th>\n",
       "    </tr>\n",
       "  </thead>\n",
       "  <tbody>\n",
       "    <tr>\n",
       "      <th>Female</th>\n",
       "      <td>113087</td>\n",
       "      <td>108111</td>\n",
       "      <td>103292</td>\n",
       "      <td>97250</td>\n",
       "      <td>93390</td>\n",
       "      <td>88117</td>\n",
       "      <td>84445</td>\n",
       "      <td>81277</td>\n",
       "      <td>75446</td>\n",
       "      <td>79413</td>\n",
       "    </tr>\n",
       "    <tr>\n",
       "      <th>Male</th>\n",
       "      <td>157797</td>\n",
       "      <td>150212</td>\n",
       "      <td>144363</td>\n",
       "      <td>133478</td>\n",
       "      <td>128711</td>\n",
       "      <td>120490</td>\n",
       "      <td>119498</td>\n",
       "      <td>114439</td>\n",
       "      <td>108213</td>\n",
       "      <td>115061</td>\n",
       "    </tr>\n",
       "  </tbody>\n",
       "</table>\n",
       "</div>"
      ],
      "text/plain": [
       "Year               2005    2006    2007    2008    2009    2010    2011  \\\n",
       "Sex_of_Casualty                                                           \n",
       "Female           113087  108111  103292   97250   93390   88117   84445   \n",
       "Male             157797  150212  144363  133478  128711  120490  119498   \n",
       "\n",
       "Year               2012    2013    2014  \n",
       "Sex_of_Casualty                          \n",
       "Female            81277   75446   79413  \n",
       "Male             114439  108213  115061  "
      ]
     },
     "execution_count": 27,
     "metadata": {},
     "output_type": "execute_result"
    }
   ],
   "source": [
    "df.groupby(['Year', 'Sex_of_Casualty']).size().unstack(0)"
   ]
  },
  {
   "cell_type": "code",
   "execution_count": 28,
   "metadata": {
    "collapsed": false
   },
   "outputs": [
    {
     "data": {
      "text/plain": [
       "code\n",
       "1      Fatal\n",
       "2    Serious\n",
       "3     Slight\n",
       "Name: label, dtype: object"
      ]
     },
     "execution_count": 28,
     "metadata": {},
     "output_type": "execute_result"
    }
   ],
   "source": [
    "descDict['Casualty Severity'].set_index('code')['label']"
   ]
  },
  {
   "cell_type": "code",
   "execution_count": 29,
   "metadata": {
    "collapsed": true
   },
   "outputs": [],
   "source": [
    "df['Casualty_Severity'] = df.Casualty_Severity.map(descDict['Casualty Severity'].set_index('code')['label'])"
   ]
  },
  {
   "cell_type": "code",
   "execution_count": 30,
   "metadata": {
    "collapsed": false
   },
   "outputs": [],
   "source": [
    "#df.head()"
   ]
  },
  {
   "cell_type": "code",
   "execution_count": 31,
   "metadata": {
    "collapsed": false
   },
   "outputs": [
    {
     "data": {
      "text/html": [
       "<div>\n",
       "<table border=\"1\" class=\"dataframe\">\n",
       "  <thead>\n",
       "    <tr style=\"text-align: right;\">\n",
       "      <th></th>\n",
       "      <th>Year</th>\n",
       "      <th>2005</th>\n",
       "      <th>2006</th>\n",
       "      <th>2007</th>\n",
       "      <th>2008</th>\n",
       "      <th>2009</th>\n",
       "      <th>2010</th>\n",
       "      <th>2011</th>\n",
       "      <th>2012</th>\n",
       "      <th>2013</th>\n",
       "      <th>2014</th>\n",
       "    </tr>\n",
       "    <tr>\n",
       "      <th>Sex_of_Casualty</th>\n",
       "      <th>Casualty_Severity</th>\n",
       "      <th></th>\n",
       "      <th></th>\n",
       "      <th></th>\n",
       "      <th></th>\n",
       "      <th></th>\n",
       "      <th></th>\n",
       "      <th></th>\n",
       "      <th></th>\n",
       "      <th></th>\n",
       "      <th></th>\n",
       "    </tr>\n",
       "  </thead>\n",
       "  <tbody>\n",
       "    <tr>\n",
       "      <th rowspan=\"3\" valign=\"top\">Female</th>\n",
       "      <th>Fatal</th>\n",
       "      <td>785</td>\n",
       "      <td>771</td>\n",
       "      <td>729</td>\n",
       "      <td>655</td>\n",
       "      <td>569</td>\n",
       "      <td>484</td>\n",
       "      <td>478</td>\n",
       "      <td>416</td>\n",
       "      <td>442</td>\n",
       "      <td>465</td>\n",
       "    </tr>\n",
       "    <tr>\n",
       "      <th>Serious</th>\n",
       "      <td>8923</td>\n",
       "      <td>8785</td>\n",
       "      <td>8479</td>\n",
       "      <td>8116</td>\n",
       "      <td>7591</td>\n",
       "      <td>7223</td>\n",
       "      <td>7066</td>\n",
       "      <td>7109</td>\n",
       "      <td>6644</td>\n",
       "      <td>6992</td>\n",
       "    </tr>\n",
       "    <tr>\n",
       "      <th>Slight</th>\n",
       "      <td>103379</td>\n",
       "      <td>98555</td>\n",
       "      <td>94084</td>\n",
       "      <td>88479</td>\n",
       "      <td>85230</td>\n",
       "      <td>80410</td>\n",
       "      <td>76901</td>\n",
       "      <td>73752</td>\n",
       "      <td>68360</td>\n",
       "      <td>71956</td>\n",
       "    </tr>\n",
       "    <tr>\n",
       "      <th rowspan=\"3\" valign=\"top\">Male</th>\n",
       "      <th>Fatal</th>\n",
       "      <td>2416</td>\n",
       "      <td>2401</td>\n",
       "      <td>2217</td>\n",
       "      <td>1882</td>\n",
       "      <td>1653</td>\n",
       "      <td>1366</td>\n",
       "      <td>1423</td>\n",
       "      <td>1338</td>\n",
       "      <td>1271</td>\n",
       "      <td>1310</td>\n",
       "    </tr>\n",
       "    <tr>\n",
       "      <th>Serious</th>\n",
       "      <td>20026</td>\n",
       "      <td>19886</td>\n",
       "      <td>19289</td>\n",
       "      <td>17907</td>\n",
       "      <td>17098</td>\n",
       "      <td>15434</td>\n",
       "      <td>16055</td>\n",
       "      <td>15929</td>\n",
       "      <td>15011</td>\n",
       "      <td>15815</td>\n",
       "    </tr>\n",
       "    <tr>\n",
       "      <th>Slight</th>\n",
       "      <td>135355</td>\n",
       "      <td>127925</td>\n",
       "      <td>122857</td>\n",
       "      <td>113689</td>\n",
       "      <td>109960</td>\n",
       "      <td>103690</td>\n",
       "      <td>102020</td>\n",
       "      <td>97172</td>\n",
       "      <td>91931</td>\n",
       "      <td>97936</td>\n",
       "    </tr>\n",
       "  </tbody>\n",
       "</table>\n",
       "</div>"
      ],
      "text/plain": [
       "Year                                 2005    2006    2007    2008    2009  \\\n",
       "Sex_of_Casualty Casualty_Severity                                           \n",
       "Female          Fatal                 785     771     729     655     569   \n",
       "                Serious              8923    8785    8479    8116    7591   \n",
       "                Slight             103379   98555   94084   88479   85230   \n",
       "Male            Fatal                2416    2401    2217    1882    1653   \n",
       "                Serious             20026   19886   19289   17907   17098   \n",
       "                Slight             135355  127925  122857  113689  109960   \n",
       "\n",
       "Year                                 2010    2011   2012   2013   2014  \n",
       "Sex_of_Casualty Casualty_Severity                                       \n",
       "Female          Fatal                 484     478    416    442    465  \n",
       "                Serious              7223    7066   7109   6644   6992  \n",
       "                Slight              80410   76901  73752  68360  71956  \n",
       "Male            Fatal                1366    1423   1338   1271   1310  \n",
       "                Serious             15434   16055  15929  15011  15815  \n",
       "                Slight             103690  102020  97172  91931  97936  "
      ]
     },
     "execution_count": 31,
     "metadata": {},
     "output_type": "execute_result"
    }
   ],
   "source": [
    "df.groupby(['Year', 'Sex_of_Casualty', 'Casualty_Severity']).size().unstack(0)"
   ]
  },
  {
   "cell_type": "code",
   "execution_count": null,
   "metadata": {
    "collapsed": false
   },
   "outputs": [],
   "source": []
  },
  {
   "cell_type": "code",
   "execution_count": 32,
   "metadata": {
    "collapsed": false
   },
   "outputs": [
    {
     "data": {
      "text/plain": [
       "code\n",
       "1       0 - 5\n",
       "2      6 - 10\n",
       "3     11 - 15\n",
       "4     16 - 20\n",
       "5     21 - 25\n",
       "6     26 - 35\n",
       "7     36 - 45\n",
       "8     46 - 55\n",
       "9     56 - 65\n",
       "10    66 - 75\n",
       "11    Over 75\n",
       "Name: label, dtype: object"
      ]
     },
     "execution_count": 32,
     "metadata": {},
     "output_type": "execute_result"
    }
   ],
   "source": [
    "descDict['Age Band'].set_index('code')['label']"
   ]
  },
  {
   "cell_type": "code",
   "execution_count": 33,
   "metadata": {
    "collapsed": false
   },
   "outputs": [],
   "source": [
    "df['Age_Band_of_Casualty_Txt'] = df.Age_Band_of_Casualty.map(descDict['Age Band'].set_index('code')['label'])"
   ]
  },
  {
   "cell_type": "code",
   "execution_count": 34,
   "metadata": {
    "collapsed": false
   },
   "outputs": [
    {
     "data": {
      "text/html": [
       "<div>\n",
       "<table border=\"1\" class=\"dataframe\">\n",
       "  <thead>\n",
       "    <tr style=\"text-align: right;\">\n",
       "      <th>Year</th>\n",
       "      <th>2005</th>\n",
       "      <th>2006</th>\n",
       "      <th>2007</th>\n",
       "      <th>2008</th>\n",
       "      <th>2009</th>\n",
       "      <th>2010</th>\n",
       "      <th>2011</th>\n",
       "      <th>2012</th>\n",
       "      <th>2013</th>\n",
       "      <th>2014</th>\n",
       "    </tr>\n",
       "    <tr>\n",
       "      <th>Age_Band_of_Casualty_Txt</th>\n",
       "      <th></th>\n",
       "      <th></th>\n",
       "      <th></th>\n",
       "      <th></th>\n",
       "      <th></th>\n",
       "      <th></th>\n",
       "      <th></th>\n",
       "      <th></th>\n",
       "      <th></th>\n",
       "      <th></th>\n",
       "    </tr>\n",
       "  </thead>\n",
       "  <tbody>\n",
       "    <tr>\n",
       "      <th>0 - 5</th>\n",
       "      <td>28</td>\n",
       "      <td>34</td>\n",
       "      <td>28</td>\n",
       "      <td>29</td>\n",
       "      <td>16</td>\n",
       "      <td>15</td>\n",
       "      <td>12</td>\n",
       "      <td>19</td>\n",
       "      <td>12</td>\n",
       "      <td>10</td>\n",
       "    </tr>\n",
       "    <tr>\n",
       "      <th>11 - 15</th>\n",
       "      <td>81</td>\n",
       "      <td>97</td>\n",
       "      <td>73</td>\n",
       "      <td>61</td>\n",
       "      <td>49</td>\n",
       "      <td>23</td>\n",
       "      <td>33</td>\n",
       "      <td>28</td>\n",
       "      <td>26</td>\n",
       "      <td>29</td>\n",
       "    </tr>\n",
       "    <tr>\n",
       "      <th>16 - 20</th>\n",
       "      <td>525</td>\n",
       "      <td>505</td>\n",
       "      <td>453</td>\n",
       "      <td>384</td>\n",
       "      <td>325</td>\n",
       "      <td>275</td>\n",
       "      <td>206</td>\n",
       "      <td>212</td>\n",
       "      <td>186</td>\n",
       "      <td>167</td>\n",
       "    </tr>\n",
       "    <tr>\n",
       "      <th>21 - 25</th>\n",
       "      <td>391</td>\n",
       "      <td>424</td>\n",
       "      <td>375</td>\n",
       "      <td>319</td>\n",
       "      <td>262</td>\n",
       "      <td>186</td>\n",
       "      <td>221</td>\n",
       "      <td>204</td>\n",
       "      <td>231</td>\n",
       "      <td>225</td>\n",
       "    </tr>\n",
       "    <tr>\n",
       "      <th>26 - 35</th>\n",
       "      <td>541</td>\n",
       "      <td>499</td>\n",
       "      <td>464</td>\n",
       "      <td>403</td>\n",
       "      <td>350</td>\n",
       "      <td>270</td>\n",
       "      <td>295</td>\n",
       "      <td>257</td>\n",
       "      <td>249</td>\n",
       "      <td>273</td>\n",
       "    </tr>\n",
       "    <tr>\n",
       "      <th>36 - 45</th>\n",
       "      <td>459</td>\n",
       "      <td>452</td>\n",
       "      <td>427</td>\n",
       "      <td>374</td>\n",
       "      <td>344</td>\n",
       "      <td>275</td>\n",
       "      <td>270</td>\n",
       "      <td>233</td>\n",
       "      <td>211</td>\n",
       "      <td>223</td>\n",
       "    </tr>\n",
       "    <tr>\n",
       "      <th>46 - 55</th>\n",
       "      <td>329</td>\n",
       "      <td>310</td>\n",
       "      <td>345</td>\n",
       "      <td>275</td>\n",
       "      <td>277</td>\n",
       "      <td>243</td>\n",
       "      <td>269</td>\n",
       "      <td>221</td>\n",
       "      <td>255</td>\n",
       "      <td>224</td>\n",
       "    </tr>\n",
       "    <tr>\n",
       "      <th>56 - 65</th>\n",
       "      <td>237</td>\n",
       "      <td>253</td>\n",
       "      <td>217</td>\n",
       "      <td>187</td>\n",
       "      <td>182</td>\n",
       "      <td>188</td>\n",
       "      <td>167</td>\n",
       "      <td>165</td>\n",
       "      <td>153</td>\n",
       "      <td>171</td>\n",
       "    </tr>\n",
       "    <tr>\n",
       "      <th>6 - 10</th>\n",
       "      <td>32</td>\n",
       "      <td>38</td>\n",
       "      <td>20</td>\n",
       "      <td>34</td>\n",
       "      <td>16</td>\n",
       "      <td>17</td>\n",
       "      <td>15</td>\n",
       "      <td>14</td>\n",
       "      <td>10</td>\n",
       "      <td>14</td>\n",
       "    </tr>\n",
       "    <tr>\n",
       "      <th>66 - 75</th>\n",
       "      <td>206</td>\n",
       "      <td>192</td>\n",
       "      <td>201</td>\n",
       "      <td>174</td>\n",
       "      <td>147</td>\n",
       "      <td>125</td>\n",
       "      <td>158</td>\n",
       "      <td>146</td>\n",
       "      <td>145</td>\n",
       "      <td>172</td>\n",
       "    </tr>\n",
       "    <tr>\n",
       "      <th>Over 75</th>\n",
       "      <td>363</td>\n",
       "      <td>359</td>\n",
       "      <td>335</td>\n",
       "      <td>297</td>\n",
       "      <td>254</td>\n",
       "      <td>233</td>\n",
       "      <td>255</td>\n",
       "      <td>255</td>\n",
       "      <td>235</td>\n",
       "      <td>267</td>\n",
       "    </tr>\n",
       "  </tbody>\n",
       "</table>\n",
       "</div>"
      ],
      "text/plain": [
       "Year                      2005  2006  2007  2008  2009  2010  2011  2012  \\\n",
       "Age_Band_of_Casualty_Txt                                                   \n",
       "0 - 5                       28    34    28    29    16    15    12    19   \n",
       "11 - 15                     81    97    73    61    49    23    33    28   \n",
       "16 - 20                    525   505   453   384   325   275   206   212   \n",
       "21 - 25                    391   424   375   319   262   186   221   204   \n",
       "26 - 35                    541   499   464   403   350   270   295   257   \n",
       "36 - 45                    459   452   427   374   344   275   270   233   \n",
       "46 - 55                    329   310   345   275   277   243   269   221   \n",
       "56 - 65                    237   253   217   187   182   188   167   165   \n",
       "6 - 10                      32    38    20    34    16    17    15    14   \n",
       "66 - 75                    206   192   201   174   147   125   158   146   \n",
       "Over 75                    363   359   335   297   254   233   255   255   \n",
       "\n",
       "Year                      2013  2014  \n",
       "Age_Band_of_Casualty_Txt              \n",
       "0 - 5                       12    10  \n",
       "11 - 15                     26    29  \n",
       "16 - 20                    186   167  \n",
       "21 - 25                    231   225  \n",
       "26 - 35                    249   273  \n",
       "36 - 45                    211   223  \n",
       "46 - 55                    255   224  \n",
       "56 - 65                    153   171  \n",
       "6 - 10                      10    14  \n",
       "66 - 75                    145   172  \n",
       "Over 75                    235   267  "
      ]
     },
     "execution_count": 34,
     "metadata": {},
     "output_type": "execute_result"
    }
   ],
   "source": [
    "df[df.Casualty_Severity == 'Fatal'].groupby(['Year', 'Age_Band_of_Casualty_Txt']).size().unstack(0)"
   ]
  },
  {
   "cell_type": "code",
   "execution_count": 35,
   "metadata": {
    "collapsed": false
   },
   "outputs": [],
   "source": [
    "#df[df.Casualty_Severity == 'Fatal'].groupby(['Year', 'Age_Band_of_Casualty', 'Sex_of_Casualty']).size().unstack(0)\n",
    "#df[df.Casualty_Severity == 'Fatal'].tail()"
   ]
  },
  {
   "cell_type": "code",
   "execution_count": 58,
   "metadata": {
    "collapsed": true
   },
   "outputs": [],
   "source": [
    "%matplotlib inline"
   ]
  },
  {
   "cell_type": "code",
   "execution_count": 59,
   "metadata": {
    "collapsed": false
   },
   "outputs": [],
   "source": [
    "dfToPlot = df[df.Casualty_Severity == 'Fatal'].groupby(['Year', 'Sex_of_Casualty']).size().unstack(1)"
   ]
  },
  {
   "cell_type": "code",
   "execution_count": 60,
   "metadata": {
    "collapsed": false
   },
   "outputs": [],
   "source": [
    "dfToPlot.index = pd.to_datetime(dfToPlot.index, format='%Y')"
   ]
  },
  {
   "cell_type": "code",
   "execution_count": 61,
   "metadata": {
    "collapsed": false
   },
   "outputs": [
    {
     "data": {
      "text/plain": [
       "<matplotlib.axes._subplots.AxesSubplot at 0x4a77270>"
      ]
     },
     "execution_count": 61,
     "metadata": {},
     "output_type": "execute_result"
    },
    {
     "data": {
      "image/png": "[encoded data removed]",
      "text/plain": [
       "<matplotlib.figure.Figure at 0x4a73910>"
      ]
     },
     "metadata": {},
     "output_type": "display_data"
    }
   ],
   "source": [
    "dfToPlot.plot()"
   ]
  },
  {
   "cell_type": "code",
   "execution_count": 62,
   "metadata": {
    "collapsed": true
   },
   "outputs": [],
   "source": [
    "dfToPlot2 = df[df.Casualty_Severity == 'Fatal'].groupby(['Age_Band_of_Casualty']).size()"
   ]
  },
  {
   "cell_type": "code",
   "execution_count": 63,
   "metadata": {
    "collapsed": false
   },
   "outputs": [],
   "source": [
    "#dfToPlot2.index.map(dict(descDict['Age Band'].set_index('code')['label']))\n",
    "dfToPlot2.index = dfToPlot2.index.map(lambda x: dict(descDict['Age Band'].set_index('code')['label'])[x])"
   ]
  },
  {
   "cell_type": "code",
   "execution_count": 64,
   "metadata": {
    "collapsed": false
   },
   "outputs": [
    {
     "data": {
      "text/plain": [
       "<matplotlib.axes._subplots.AxesSubplot at 0x4c2baf0>"
      ]
     },
     "execution_count": 64,
     "metadata": {},
     "output_type": "execute_result"
    },
    {
     "data": {
      "image/png": "[encoded data removed]",
      "text/plain": [
       "<matplotlib.figure.Figure at 0x49e9070>"
      ]
     },
     "metadata": {},
     "output_type": "display_data"
    }
   ],
   "source": [
    "dfToPlot2.plot.bar()"
   ]
  },
  {
   "cell_type": "code",
   "execution_count": 65,
   "metadata": {
    "collapsed": false
   },
   "outputs": [
    {
     "data": {
      "text/plain": [
       "<matplotlib.axes._subplots.AxesSubplot at 0x4d28350>"
      ]
     },
     "execution_count": 65,
     "metadata": {},
     "output_type": "execute_result"
    },
    {
     "data": {
      "image/png": "[encoded data removed]",
      "text/plain": [
       "<matplotlib.figure.Figure at 0x4c2bdb0>"
      ]
     },
     "metadata": {},
     "output_type": "display_data"
    }
   ],
   "source": [
    "df[df.Casualty_Severity == 'Fatal'].groupby(['Age_of_Casualty']).size().plot()"
   ]
  },
  {
   "cell_type": "code",
   "execution_count": 100,
   "metadata": {
    "collapsed": false
   },
   "outputs": [
    {
     "data": {
      "text/plain": [
       "Year\n",
       "2005-01-01    127\n",
       "2006-01-01    119\n",
       "2007-01-01    115\n",
       "2008-01-01     95\n",
       "2009-01-01     86\n",
       "2010-01-01     72\n",
       "2011-01-01     51\n",
       "2012-01-01     59\n",
       "2013-01-01     55\n",
       "2014-01-01     54\n",
       "dtype: float64"
      ]
     },
     "execution_count": 100,
     "metadata": {},
     "output_type": "execute_result"
    }
   ],
   "source": [
    "df[df.Casualty_Severity == 'Fatal'].groupby(['Year','Age_of_Casualty']).size().unstack(0).idxmax()\n",
    "df[df.Casualty_Severity == 'Fatal'].groupby(['Year','Age_of_Casualty']).size().unstack(0).max()"
   ]
  },
  {
   "cell_type": "code",
   "execution_count": 93,
   "metadata": {
    "collapsed": false
   },
   "outputs": [
    {
     "data": {
      "text/plain": [
       "18.0"
      ]
     },
     "execution_count": 93,
     "metadata": {},
     "output_type": "execute_result"
    }
   ],
   "source": [
    "df[df.Casualty_Severity == 'Fatal'].groupby(['Age_of_Casualty']).size().idxmax()"
   ]
  },
  {
   "cell_type": "code",
   "execution_count": 94,
   "metadata": {
    "collapsed": false
   },
   "outputs": [
    {
     "data": {
      "text/plain": [
       "802"
      ]
     },
     "execution_count": 94,
     "metadata": {},
     "output_type": "execute_result"
    }
   ],
   "source": [
    "df[df.Casualty_Severity == 'Fatal'].groupby(['Age_of_Casualty']).size().max()"
   ]
  },
  {
   "cell_type": "code",
   "execution_count": 97,
   "metadata": {
    "collapsed": true
   },
   "outputs": [],
   "source": [
    "df['Year'] = pd.to_datetime(df.Year, format='%Y')"
   ]
  },
  {
   "cell_type": "code",
   "execution_count": 98,
   "metadata": {
    "collapsed": false
   },
   "outputs": [
    {
     "data": {
      "text/plain": [
       "<matplotlib.axes._subplots.AxesSubplot at 0xaf2c870>"
      ]
     },
     "execution_count": 98,
     "metadata": {},
     "output_type": "execute_result"
    },
    {
     "data": {
      "image/png": "[encoded data removed]",
      "text/plain": [
       "<matplotlib.figure.Figure at 0xaee9670>"
      ]
     },
     "metadata": {},
     "output_type": "display_data"
    }
   ],
   "source": [
    "df[(df.Casualty_Severity == 'Fatal') & (df.Age_of_Casualty.isin([17,18,19,20,21]))].groupby(['Year','Age_of_Casualty']).size().unstack(1).plot()"
   ]
  },
  {
   "cell_type": "code",
   "execution_count": 66,
   "metadata": {
    "collapsed": true
   },
   "outputs": [],
   "source": [
    "dfToPlot3 = df[df.Casualty_Severity == 'Fatal'].groupby(['Age_Band_of_Casualty', 'Sex_of_Casualty']).size()"
   ]
  },
  {
   "cell_type": "code",
   "execution_count": 71,
   "metadata": {
    "collapsed": false
   },
   "outputs": [
    {
     "data": {
      "text/plain": [
       "<matplotlib.axes._subplots.AxesSubplot at 0x8b4de10>"
      ]
     },
     "execution_count": 71,
     "metadata": {},
     "output_type": "execute_result"
    },
    {
     "data": {
      "image/png": "[encoded data removed]",
      "text/plain": [
       "<matplotlib.figure.Figure at 0x8b4d0b0>"
      ]
     },
     "metadata": {},
     "output_type": "display_data"
    }
   ],
   "source": [
    "dfToPlot3 = dfToPlot3.unstack(1)\n",
    "dfToPlot3.index = dfToPlot3.index.map(lambda x: dict(descDict['Age Band'].set_index('code')['label'])[x])\n",
    "dfToPlot3.plot.bar()"
   ]
  },
  {
   "cell_type": "code",
   "execution_count": 72,
   "metadata": {
    "collapsed": false
   },
   "outputs": [
    {
     "data": {
      "text/html": [
       "<div>\n",
       "<table border=\"1\" class=\"dataframe\">\n",
       "  <thead>\n",
       "    <tr style=\"text-align: right;\">\n",
       "      <th>Sex_of_Casualty</th>\n",
       "      <th>Female</th>\n",
       "      <th>Male</th>\n",
       "    </tr>\n",
       "  </thead>\n",
       "  <tbody>\n",
       "    <tr>\n",
       "      <th>0 - 5</th>\n",
       "      <td>88</td>\n",
       "      <td>115</td>\n",
       "    </tr>\n",
       "    <tr>\n",
       "      <th>6 - 10</th>\n",
       "      <td>70</td>\n",
       "      <td>140</td>\n",
       "    </tr>\n",
       "    <tr>\n",
       "      <th>11 - 15</th>\n",
       "      <td>177</td>\n",
       "      <td>323</td>\n",
       "    </tr>\n",
       "    <tr>\n",
       "      <th>16 - 20</th>\n",
       "      <td>743</td>\n",
       "      <td>2495</td>\n",
       "    </tr>\n",
       "    <tr>\n",
       "      <th>21 - 25</th>\n",
       "      <td>509</td>\n",
       "      <td>2329</td>\n",
       "    </tr>\n",
       "    <tr>\n",
       "      <th>26 - 35</th>\n",
       "      <td>617</td>\n",
       "      <td>2984</td>\n",
       "    </tr>\n",
       "    <tr>\n",
       "      <th>36 - 45</th>\n",
       "      <td>592</td>\n",
       "      <td>2675</td>\n",
       "    </tr>\n",
       "    <tr>\n",
       "      <th>46 - 55</th>\n",
       "      <td>570</td>\n",
       "      <td>2178</td>\n",
       "    </tr>\n",
       "    <tr>\n",
       "      <th>56 - 65</th>\n",
       "      <td>523</td>\n",
       "      <td>1397</td>\n",
       "    </tr>\n",
       "    <tr>\n",
       "      <th>66 - 75</th>\n",
       "      <td>609</td>\n",
       "      <td>1057</td>\n",
       "    </tr>\n",
       "    <tr>\n",
       "      <th>Over 75</th>\n",
       "      <td>1286</td>\n",
       "      <td>1567</td>\n",
       "    </tr>\n",
       "  </tbody>\n",
       "</table>\n",
       "</div>"
      ],
      "text/plain": [
       "Sex_of_Casualty  Female  Male\n",
       "0 - 5                88   115\n",
       "6 - 10               70   140\n",
       "11 - 15             177   323\n",
       "16 - 20             743  2495\n",
       "21 - 25             509  2329\n",
       "26 - 35             617  2984\n",
       "36 - 45             592  2675\n",
       "46 - 55             570  2178\n",
       "56 - 65             523  1397\n",
       "66 - 75             609  1057\n",
       "Over 75            1286  1567"
      ]
     },
     "execution_count": 72,
     "metadata": {},
     "output_type": "execute_result"
    }
   ],
   "source": [
    "dfToPlot3"
   ]
  },
  {
   "cell_type": "code",
   "execution_count": 75,
   "metadata": {
    "collapsed": false
   },
   "outputs": [
    {
     "data": {
      "text/plain": [
       "array(['Pedestrian', 'Passenger', 'Driver or rider'], dtype=object)"
      ]
     },
     "execution_count": 75,
     "metadata": {},
     "output_type": "execute_result"
    }
   ],
   "source": [
    "df.Casualty_Class_Txt.unique()"
   ]
  },
  {
   "cell_type": "code",
   "execution_count": 76,
   "metadata": {
    "collapsed": true
   },
   "outputs": [],
   "source": [
    "dfToPlot4 = df[(df.Casualty_Severity == 'Fatal')\n",
    "               & (df.Casualty_Class_Txt == 'Driver or rider' )].groupby(['Age_Band_of_Casualty', \n",
    "                                                                         'Sex_of_Casualty']).size()"
   ]
  },
  {
   "cell_type": "code",
   "execution_count": 79,
   "metadata": {
    "collapsed": false
   },
   "outputs": [],
   "source": [
    "dfToPlot4 = dfToPlot4.unstack(1)\n",
    "dfToPlot4.index = dfToPlot4.index.map(lambda x: dict(descDict['Age Band'].set_index('code')['label'])[x])"
   ]
  },
  {
   "cell_type": "code",
   "execution_count": 80,
   "metadata": {
    "collapsed": false
   },
   "outputs": [
    {
     "data": {
      "text/plain": [
       "<matplotlib.axes._subplots.AxesSubplot at 0x8bf8810>"
      ]
     },
     "execution_count": 80,
     "metadata": {},
     "output_type": "execute_result"
    },
    {
     "data": {
      "image/png": "[encoded data removed]",
      "text/plain": [
       "<matplotlib.figure.Figure at 0x8b791b0>"
      ]
     },
     "metadata": {},
     "output_type": "display_data"
    }
   ],
   "source": [
    "dfToPlot4.plot.bar()"
   ]
  },
  {
   "cell_type": "code",
   "execution_count": 81,
   "metadata": {
    "collapsed": false
   },
   "outputs": [
    {
     "data": {
      "text/html": [
       "<div>\n",
       "<table border=\"1\" class=\"dataframe\">\n",
       "  <thead>\n",
       "    <tr style=\"text-align: right;\">\n",
       "      <th>Sex_of_Casualty</th>\n",
       "      <th>Female</th>\n",
       "      <th>Male</th>\n",
       "    </tr>\n",
       "  </thead>\n",
       "  <tbody>\n",
       "    <tr>\n",
       "      <th>0 - 5</th>\n",
       "      <td>NaN</td>\n",
       "      <td>3</td>\n",
       "    </tr>\n",
       "    <tr>\n",
       "      <th>6 - 10</th>\n",
       "      <td>6</td>\n",
       "      <td>29</td>\n",
       "    </tr>\n",
       "    <tr>\n",
       "      <th>11 - 15</th>\n",
       "      <td>11</td>\n",
       "      <td>101</td>\n",
       "    </tr>\n",
       "    <tr>\n",
       "      <th>16 - 20</th>\n",
       "      <td>265</td>\n",
       "      <td>1474</td>\n",
       "    </tr>\n",
       "    <tr>\n",
       "      <th>21 - 25</th>\n",
       "      <td>263</td>\n",
       "      <td>1622</td>\n",
       "    </tr>\n",
       "    <tr>\n",
       "      <th>26 - 35</th>\n",
       "      <td>342</td>\n",
       "      <td>2202</td>\n",
       "    </tr>\n",
       "    <tr>\n",
       "      <th>36 - 45</th>\n",
       "      <td>337</td>\n",
       "      <td>2112</td>\n",
       "    </tr>\n",
       "    <tr>\n",
       "      <th>46 - 55</th>\n",
       "      <td>299</td>\n",
       "      <td>1678</td>\n",
       "    </tr>\n",
       "    <tr>\n",
       "      <th>56 - 65</th>\n",
       "      <td>217</td>\n",
       "      <td>1036</td>\n",
       "    </tr>\n",
       "    <tr>\n",
       "      <th>66 - 75</th>\n",
       "      <td>186</td>\n",
       "      <td>620</td>\n",
       "    </tr>\n",
       "    <tr>\n",
       "      <th>Over 75</th>\n",
       "      <td>255</td>\n",
       "      <td>786</td>\n",
       "    </tr>\n",
       "  </tbody>\n",
       "</table>\n",
       "</div>"
      ],
      "text/plain": [
       "Sex_of_Casualty  Female  Male\n",
       "0 - 5               NaN     3\n",
       "6 - 10                6    29\n",
       "11 - 15              11   101\n",
       "16 - 20             265  1474\n",
       "21 - 25             263  1622\n",
       "26 - 35             342  2202\n",
       "36 - 45             337  2112\n",
       "46 - 55             299  1678\n",
       "56 - 65             217  1036\n",
       "66 - 75             186   620\n",
       "Over 75             255   786"
      ]
     },
     "execution_count": 81,
     "metadata": {},
     "output_type": "execute_result"
    }
   ],
   "source": [
    "dfToPlot4"
   ]
  },
  {
   "cell_type": "code",
   "execution_count": null,
   "metadata": {
    "collapsed": true
   },
   "outputs": [],
   "source": []
  }
 ],
 "metadata": {
  "kernelspec": {
   "display_name": "Python 3",
   "language": "python",
   "name": "python3"
  },
  "language_info": {
   "codemirror_mode": {
    "name": "ipython",
    "version": 3
   },
   "file_extension": ".py",
   "mimetype": "text/x-python",
   "name": "python",
   "nbconvert_exporter": "python",
   "pygments_lexer": "ipython3",
   "version": "3.4.3"
  }
 },
 "nbformat": 4,
 "nbformat_minor": 0
}
