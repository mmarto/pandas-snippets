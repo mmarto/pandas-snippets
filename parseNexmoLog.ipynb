{
 "cells": [
  {
   "cell_type": "code",
   "execution_count": 18,
   "metadata": {
    "collapsed": true
   },
   "outputs": [],
   "source": [
    "import pandas as pd\n",
    "from io import StringIO\n",
    "import numpy as np\n",
    "from collections import defaultdict"
   ]
  },
  {
   "cell_type": "code",
   "execution_count": 14,
   "metadata": {
    "collapsed": true
   },
   "outputs": [],
   "source": [
    "nexmoLogSample = '''2015-12-20T16:41:39-05:00|EVENT|log=EVENT,MySessionID=895426ce56fa28d2d5b68830087fa58d,MyException=HANGUP,MyEvent=connection.disconnect.hangup,\n",
    "2015-12-20T16:41:49-05:00|OK|log=OK,req_id=85360453,call-id=edc7d383619194172273a5167494bce9-1,status=ok,to=1234567819,call-request=2015/12/20 21:40:50,call-direction=out,call-price=0.121333,call-rate=0.14000000,call-duration=52,network-code=72406,call-start=2015/12/20 21:40:58,call-end=2015/12/20 21:41:49,\n",
    "2015-12-20T16:41:51-05:00|OK|log=OK,req_id=84409064,call-id=48c395150ebdf89be85b8f0c775ea3ad-1,status=ok,to=12345678910,call-request=2015/12/20 21:40:08,call-direction=out,call-price=0.121333,call-rate=0.14000000,call-duration=52,network-code=72402,call-start=2015/12/20 21:41:00,call-end=2015/12/20 21:41:51,\n",
    "2015-12-20T16:41:56-05:00|OK|log=OK,req_id=88425994,call-id=62f11ae821fb18e9ed2fe083f7711d5a-1,status=ok,to=12345678910,call-request=2015/12/20 21:40:35,call-direction=out,call-price=0.135200,call-rate=0.15600000,call-duration=52,network-code=74800,call-start=2015/12/20 21:41:05,call-end=2015/12/20 21:41:56,\n",
    "2015-12-20T16:42:03-05:00|ERROR|log=ERROR,req_id=83525190,call-id=3c65ccd164422fde2f76c5d40ba1eb72-1,status=failed,sip-status=0,to=12345678910,call-request=2015/12/20 21:41:01,\n",
    "2015-12-20T16:42:04-05:00|EVENT|log=EVENT,MySessionID=b0068ad9ef85344555c194184993c1ec,MyException=HANGUP,MyEvent=connection.disconnect.hangup,\n",
    "2015-12-20T16:42:07-05:00|OK|log=OK,req_id=87340519,call-id=537c18322c7a8a9ad123702d83013196-1,status=ok,to=12345678910,call-request=2015/12/20 21:40:40,call-direction=out,call-price=0.135200,call-rate=0.15600000,call-duration=52,network-code=74800,call-start=2015/12/20 21:41:16,call-end=2015/12/20 21:42:07,\n",
    "2015-12-20T17:06:01-0500|INFO|msg=Translated message is not avaialble.Trying English,req_id=5555555,phone=12345678910,msg_type=TYPE1,lang=zh-cn\n",
    "2015-12-20T17:06:02-0500|INFO|msg=successful call request,req_id=5555555,phone=12345678910,msg_type=TYPE1,lang=zh-cn,response=HTTP::Response=HASH(0x315d6d8)\n",
    "2015-12-20T17:06:03-05:00|EVENT|log=EVENT,MySessionID=46b8c692e5ac1b92a956f7846539dab0,CurrentLocation=startMessage,\n",
    "2015-12-20T17:06:14-05:00|EVENT|log=EVENT,MySessionID=46b8c692e5ac1b92a956f7846539dab0,CurrentLocation=endMessage,\n",
    "2015-12-20T17:06:30-05:00|OK|log=OK,req_id=5555555,call-id=d363a48c9d7ef7fd394c75aafcd8ec84-1,status=ok,to=12345678910,call-request=2015/12/20 22:06:02,call-direction=out,call-price=0.007933,call-rate=0.02800000,call-duration=17,network-code=CH-FIXED,call-start=2015/12/20 22:06:13,call-end=2015/12/20 22:06:30,\n",
    "2015-12-20T17:08:21-0500|INFO|msg=successful call request,req_id=5555555,phone=12345678910,msg_type=TYPE1,lang=zh-cn,response=HTTP::Response=HASH(0x12285d8)\n",
    "2015-12-20T17:08:23-05:00|ERROR|log=ERROR,req_id=5555555,call-id=122761a9cc4c76a8a93a31dbce2a7cb9-1,status=vxml_error,sip-status=500,to=12345678910,call-request=2015/12/20 22:08:20,\n",
    "2015-12-20T17:09:33-0500|INFO|msg=successful call request,req_id=5555555,phone=12345678910,msg_type=TYPE1,lang=zh-ch,response=HTTP::Response=HASH(0x2b5c5d8)\n",
    "2015-12-20T17:09:35-05:00|ERROR|log=ERROR,req_id=5555555,call-id=e36bf6a3cbd3f6105fe926699ab02518-1,status=vxml_error,sip-status=500,to=12345678910,call-request=2015/12/20 22:09:33,\n",
    "2015-12-20T17:21:52-0500|INFO|msg=successful call request,req_id=5555555,phone=12345678910,msg_type=TYPE1,lang=zh,response=HTTP::Response=HASH(0x2e165d8)\n",
    "2015-12-20T17:21:54-05:00|ERROR|log=ERROR,req_id=5555555,call-id=83249d585dd9ff02a9ac4481506d173b-1,status=vxml_error,sip-status=500,to=12345678910,call-request=2015/12/20 22:21:52,\n",
    "2015-12-20T17:23:33-0500|INFO|msg=successful call request,req_id=2222222,phone=12345678910,msg_type=TYPE1,lang=en,response=HTTP::Response=HASH(0x30eb5d8)\n",
    "2015-12-20T17:23:33-05:00|EVENT|log=EVENT,MySessionID=55c3a8304ae02afe153b04e24ad746aa,CurrentLocation=startMessage,\n",
    "2015-12-20T17:23:45-05:00|EVENT|log=EVENT,MySessionID=55c3a8304ae02afe153b04e24ad746aa,CurrentLocation=endMessage,\n",
    "2015-12-20T17:23:50-05:00|OK|log=OK,req_id=2222222,call-id=08cfa31d667e2dbac0946c220cb44f18-1,status=ok,to=12345678910,call-request=2015/12/20 22:23:32,call-direction=out,call-price=0.002800,call-rate=0.02800000,call-duration=6,network-code=CH-FIXED,call-start=2015/12/20 22:23:45,call-end=2015/12/20 22:23:50,\n",
    "2015-12-20T17:35:42-0500|INFO|msg=successful call request,req_id=5555555,phone=12345678910,msg_type=TYPE1,lang=zh,response=HTTP::Response=HASH(0x1ec65d8)\n",
    "2015-12-20T17:35:43-05:00|ERROR|log=ERROR,req_id=5555555,call-id=343e06d3066f18379c74fc666c5f24a3-1,status=vxml_error,sip-status=500,to=12345678910,call-request=2015/12/20 22:35:42,\n",
    "2015-12-20T17:51:38-0500|INFO|msg=successful call request,req_id=5555555,phone=12345678910,msg_type=TYPE1,lang=zh,response=HTTP::Response=HASH(0x2c735d8)\n",
    "2015-12-20T17:51:41-05:00|ERROR|log=ERROR,req_id=5555555,call-id=01c00753bc7daea0caec8f290f1815a1-1,status=vxml_error,sip-status=500,to=12345678910,call-request=2015/12/20 22:51:38,\n",
    "2015-12-20T18:43:13-0500|INFO|msg=successful call request,req_id=5555555,phone=12345678910,msg_type=TYPE1,lang=zh,response=HTTP::Response=HASH(0x13f15d8)\n",
    "2015-12-20T18:43:13-05:00|ERROR|log=ERROR,req_id=5555555,call-id=4c25dc4ed18339b03383077b8c1caae1-1,status=vxml_error,sip-status=500,to=12345678910,call-request=2015/12/20 23:43:12,\n",
    "2015-12-20T18:47:26-0500|ERROR|msg=Failed call request,req_id=5555555,phone=123456789,msg_type=TYPE1,lang=zh,response=HTTP::Response=HASH(0x155c560)\n",
    "2015-12-20T18:50:54-0500|ERROR|msg=Failed call request,req_id=5555555,phone=1234567891,msg_type=TYPE1,lang=zh,response=HTTP::Response=HASH(0x297f560)\n",
    "2015-12-20T18:59:17-0500|ERROR|msg=Failed call request,req_id=4444444,phone=12345678910,msg_type=TYPE1,lang=en,response=HTTP::Response=HASH(0x2423560)'''"
    ]
  },
  {
   "cell_type": "code",
   "execution_count": 15,
   "metadata": {
    "collapsed": false
   },
   "outputs": [],
   "source": [
    "df = pd.read_csv(StringIO(nexmoLogSample), sep='|', header=None)"
   ]
  },
  {
   "cell_type": "code",
   "execution_count": 16,
   "metadata": {
    "collapsed": false
   },
   "outputs": [
    {
     "name": "stdout",
     "output_type": "stream",
     "text": [
      "<class 'pandas.core.frame.DataFrame'>\n",
      "Int64Index: 31 entries, 0 to 30\n",
      "Data columns (total 3 columns):\n",
      "0    31 non-null object\n",
      "1    31 non-null object\n",
      "2    31 non-null object\n",
      "dtypes: object(3)\n",
      "memory usage: 620.0+ bytes\n"
     ]
    }
   ],
   "source": [
    "df.info()"
   ]
  },
  {
   "cell_type": "code",
   "execution_count": 17,
   "metadata": {
    "collapsed": false
   },
   "outputs": [
    {
     "data": {
      "text/html": [
       "<div>\n",
       "<table border=\"1\" class=\"dataframe\">\n",
       "  <thead>\n",
       "    <tr style=\"text-align: right;\">\n",
       "      <th></th>\n",
       "      <th>0</th>\n",
       "      <th>1</th>\n",
       "      <th>2</th>\n",
       "    </tr>\n",
       "  </thead>\n",
       "  <tbody>\n",
       "    <tr>\n",
       "      <th>0</th>\n",
       "      <td>2015-12-20T16:41:39-05:00</td>\n",
       "      <td>EVENT</td>\n",
       "      <td>log=EVENT,MySessionID=895426ce56fa28d2d5b68830...</td>\n",
       "    </tr>\n",
       "    <tr>\n",
       "      <th>1</th>\n",
       "      <td>2015-12-20T16:41:49-05:00</td>\n",
       "      <td>OK</td>\n",
       "      <td>log=OK,req_id=85360453,call-id=edc7d3836191941...</td>\n",
       "    </tr>\n",
       "    <tr>\n",
       "      <th>2</th>\n",
       "      <td>2015-12-20T16:41:51-05:00</td>\n",
       "      <td>OK</td>\n",
       "      <td>log=OK,req_id=84409064,call-id=48c395150ebdf89...</td>\n",
       "    </tr>\n",
       "    <tr>\n",
       "      <th>3</th>\n",
       "      <td>2015-12-20T16:41:56-05:00</td>\n",
       "      <td>OK</td>\n",
       "      <td>log=OK,req_id=88425994,call-id=62f11ae821fb18e...</td>\n",
       "    </tr>\n",
       "    <tr>\n",
       "      <th>4</th>\n",
       "      <td>2015-12-20T16:42:03-05:00</td>\n",
       "      <td>ERROR</td>\n",
       "      <td>log=ERROR,req_id=83525190,call-id=3c65ccd16442...</td>\n",
       "    </tr>\n",
       "  </tbody>\n",
       "</table>\n",
       "</div>"
      ],
      "text/plain": [
       "                           0      1  \\\n",
       "0  2015-12-20T16:41:39-05:00  EVENT   \n",
       "1  2015-12-20T16:41:49-05:00     OK   \n",
       "2  2015-12-20T16:41:51-05:00     OK   \n",
       "3  2015-12-20T16:41:56-05:00     OK   \n",
       "4  2015-12-20T16:42:03-05:00  ERROR   \n",
       "\n",
       "                                                   2  \n",
       "0  log=EVENT,MySessionID=895426ce56fa28d2d5b68830...  \n",
       "1  log=OK,req_id=85360453,call-id=edc7d3836191941...  \n",
       "2  log=OK,req_id=84409064,call-id=48c395150ebdf89...  \n",
       "3  log=OK,req_id=88425994,call-id=62f11ae821fb18e...  \n",
       "4  log=ERROR,req_id=83525190,call-id=3c65ccd16442...  "
      ]
     },
     "execution_count": 17,
     "metadata": {},
     "output_type": "execute_result"
    }
   ],
   "source": [
    "df.head()"
   ]
  },
  {
   "cell_type": "code",
   "execution_count": 20,
   "metadata": {
    "collapsed": false
   },
   "outputs": [
    {
     "data": {
      "text/plain": [
       "26    msg=successful call request,req_id=5555555,pho...\n",
       "27    log=ERROR,req_id=5555555,call-id=4c25dc4ed1833...\n",
       "28    msg=Failed call request,req_id=5555555,phone=1...\n",
       "29    msg=Failed call request,req_id=5555555,phone=1...\n",
       "30    msg=Failed call request,req_id=4444444,phone=4...\n",
       "Name: 2, dtype: object"
      ]
     },
     "execution_count": 20,
     "metadata": {},
     "output_type": "execute_result"
    }
   ],
   "source": [
    "#We are interested in parsing the last column\n",
    "df[2].tail()"
   ]
  },
  {
   "cell_type": "code",
   "execution_count": 21,
   "metadata": {
    "collapsed": true
   },
   "outputs": [],
   "source": [
    "#split the column by comma and create columns from it\n",
    "dfNew = df[2].str.split(',').apply(pd.Series)"
   ]
  },
  {
   "cell_type": "code",
   "execution_count": 22,
   "metadata": {
    "collapsed": false
   },
   "outputs": [
    {
     "name": "stdout",
     "output_type": "stream",
     "text": [
      "<class 'pandas.core.frame.DataFrame'>\n",
      "Int64Index: 31 entries, 0 to 30\n",
      "Data columns (total 14 columns):\n",
      "0     31 non-null object\n",
      "1     31 non-null object\n",
      "2     31 non-null object\n",
      "3     31 non-null object\n",
      "4     27 non-null object\n",
      "5     24 non-null object\n",
      "6     13 non-null object\n",
      "7     13 non-null object\n",
      "8     6 non-null object\n",
      "9     6 non-null object\n",
      "10    6 non-null object\n",
      "11    6 non-null object\n",
      "12    6 non-null object\n",
      "13    6 non-null object\n",
      "dtypes: object(14)\n",
      "memory usage: 1.9+ KB\n"
     ]
    }
   ],
   "source": [
    "dfNew.info()"
   ]
  },
  {
   "cell_type": "code",
   "execution_count": 23,
   "metadata": {
    "collapsed": false
   },
   "outputs": [
    {
     "data": {
      "text/html": [
       "<div>\n",
       "<table border=\"1\" class=\"dataframe\">\n",
       "  <thead>\n",
       "    <tr style=\"text-align: right;\">\n",
       "      <th></th>\n",
       "      <th>0</th>\n",
       "      <th>1</th>\n",
       "      <th>2</th>\n",
       "      <th>3</th>\n",
       "      <th>4</th>\n",
       "      <th>5</th>\n",
       "      <th>6</th>\n",
       "      <th>7</th>\n",
       "      <th>8</th>\n",
       "      <th>9</th>\n",
       "      <th>10</th>\n",
       "      <th>11</th>\n",
       "      <th>12</th>\n",
       "      <th>13</th>\n",
       "    </tr>\n",
       "  </thead>\n",
       "  <tbody>\n",
       "    <tr>\n",
       "      <th>0</th>\n",
       "      <td>log=EVENT</td>\n",
       "      <td>MySessionID=895426ce56fa28d2d5b68830087fa58d</td>\n",
       "      <td>MyException=HANGUP</td>\n",
       "      <td>MyEvent=connection.disconnect.hangup</td>\n",
       "      <td></td>\n",
       "      <td>NaN</td>\n",
       "      <td>NaN</td>\n",
       "      <td>NaN</td>\n",
       "      <td>NaN</td>\n",
       "      <td>NaN</td>\n",
       "      <td>NaN</td>\n",
       "      <td>NaN</td>\n",
       "      <td>NaN</td>\n",
       "      <td>NaN</td>\n",
       "    </tr>\n",
       "    <tr>\n",
       "      <th>1</th>\n",
       "      <td>log=OK</td>\n",
       "      <td>req_id=85360453</td>\n",
       "      <td>call-id=edc7d383619194172273a5167494bce9-1</td>\n",
       "      <td>status=ok</td>\n",
       "      <td>to=5515998563913</td>\n",
       "      <td>call-request=2015/12/20 21:40:50</td>\n",
       "      <td>call-direction=out</td>\n",
       "      <td>call-price=0.121333</td>\n",
       "      <td>call-rate=0.14000000</td>\n",
       "      <td>call-duration=52</td>\n",
       "      <td>network-code=72406</td>\n",
       "      <td>call-start=2015/12/20 21:40:58</td>\n",
       "      <td>call-end=2015/12/20 21:41:49</td>\n",
       "      <td></td>\n",
       "    </tr>\n",
       "    <tr>\n",
       "      <th>2</th>\n",
       "      <td>log=OK</td>\n",
       "      <td>req_id=84409064</td>\n",
       "      <td>call-id=48c395150ebdf89be85b8f0c775ea3ad-1</td>\n",
       "      <td>status=ok</td>\n",
       "      <td>to=554799859493</td>\n",
       "      <td>call-request=2015/12/20 21:40:08</td>\n",
       "      <td>call-direction=out</td>\n",
       "      <td>call-price=0.121333</td>\n",
       "      <td>call-rate=0.14000000</td>\n",
       "      <td>call-duration=52</td>\n",
       "      <td>network-code=72402</td>\n",
       "      <td>call-start=2015/12/20 21:41:00</td>\n",
       "      <td>call-end=2015/12/20 21:41:51</td>\n",
       "      <td></td>\n",
       "    </tr>\n",
       "    <tr>\n",
       "      <th>3</th>\n",
       "      <td>log=OK</td>\n",
       "      <td>req_id=88425994</td>\n",
       "      <td>call-id=62f11ae821fb18e9ed2fe083f7711d5a-1</td>\n",
       "      <td>status=ok</td>\n",
       "      <td>to=59899253560</td>\n",
       "      <td>call-request=2015/12/20 21:40:35</td>\n",
       "      <td>call-direction=out</td>\n",
       "      <td>call-price=0.135200</td>\n",
       "      <td>call-rate=0.15600000</td>\n",
       "      <td>call-duration=52</td>\n",
       "      <td>network-code=74800</td>\n",
       "      <td>call-start=2015/12/20 21:41:05</td>\n",
       "      <td>call-end=2015/12/20 21:41:56</td>\n",
       "      <td></td>\n",
       "    </tr>\n",
       "    <tr>\n",
       "      <th>4</th>\n",
       "      <td>log=ERROR</td>\n",
       "      <td>req_id=83525190</td>\n",
       "      <td>call-id=3c65ccd164422fde2f76c5d40ba1eb72-1</td>\n",
       "      <td>status=failed</td>\n",
       "      <td>sip-status=0</td>\n",
       "      <td>to=557187785719</td>\n",
       "      <td>call-request=2015/12/20 21:41:01</td>\n",
       "      <td></td>\n",
       "      <td>NaN</td>\n",
       "      <td>NaN</td>\n",
       "      <td>NaN</td>\n",
       "      <td>NaN</td>\n",
       "      <td>NaN</td>\n",
       "      <td>NaN</td>\n",
       "    </tr>\n",
       "  </tbody>\n",
       "</table>\n",
       "</div>"
      ],
      "text/plain": [
       "          0                                             1   \\\n",
       "0  log=EVENT  MySessionID=895426ce56fa28d2d5b68830087fa58d   \n",
       "1     log=OK                               req_id=85360453   \n",
       "2     log=OK                               req_id=84409064   \n",
       "3     log=OK                               req_id=88425994   \n",
       "4  log=ERROR                               req_id=83525190   \n",
       "\n",
       "                                           2   \\\n",
       "0                          MyException=HANGUP   \n",
       "1  call-id=edc7d383619194172273a5167494bce9-1   \n",
       "2  call-id=48c395150ebdf89be85b8f0c775ea3ad-1   \n",
       "3  call-id=62f11ae821fb18e9ed2fe083f7711d5a-1   \n",
       "4  call-id=3c65ccd164422fde2f76c5d40ba1eb72-1   \n",
       "\n",
       "                                     3                 4   \\\n",
       "0  MyEvent=connection.disconnect.hangup                     \n",
       "1                             status=ok  to=5515998563913   \n",
       "2                             status=ok   to=554799859493   \n",
       "3                             status=ok    to=59899253560   \n",
       "4                         status=failed      sip-status=0   \n",
       "\n",
       "                                 5                                 6   \\\n",
       "0                               NaN                               NaN   \n",
       "1  call-request=2015/12/20 21:40:50                call-direction=out   \n",
       "2  call-request=2015/12/20 21:40:08                call-direction=out   \n",
       "3  call-request=2015/12/20 21:40:35                call-direction=out   \n",
       "4                   to=557187785719  call-request=2015/12/20 21:41:01   \n",
       "\n",
       "                    7                     8                 9   \\\n",
       "0                  NaN                   NaN               NaN   \n",
       "1  call-price=0.121333  call-rate=0.14000000  call-duration=52   \n",
       "2  call-price=0.121333  call-rate=0.14000000  call-duration=52   \n",
       "3  call-price=0.135200  call-rate=0.15600000  call-duration=52   \n",
       "4                                        NaN               NaN   \n",
       "\n",
       "                   10                              11  \\\n",
       "0                 NaN                             NaN   \n",
       "1  network-code=72406  call-start=2015/12/20 21:40:58   \n",
       "2  network-code=72402  call-start=2015/12/20 21:41:00   \n",
       "3  network-code=74800  call-start=2015/12/20 21:41:05   \n",
       "4                 NaN                             NaN   \n",
       "\n",
       "                             12   13  \n",
       "0                           NaN  NaN  \n",
       "1  call-end=2015/12/20 21:41:49       \n",
       "2  call-end=2015/12/20 21:41:51       \n",
       "3  call-end=2015/12/20 21:41:56       \n",
       "4                           NaN  NaN  "
      ]
     },
     "execution_count": 23,
     "metadata": {},
     "output_type": "execute_result"
    }
   ],
   "source": [
    "dfNew.head()"
   ]
  },
  {
   "cell_type": "code",
   "execution_count": 25,
   "metadata": {
    "collapsed": true
   },
   "outputs": [],
   "source": [
    "#identify all the column names (left of the equal sign)\n",
    "logCols = set()\n",
    "for c in dfNew.columns:\n",
    "    logCols.update(list(dfNew[c].str.split('=').str.get(0).unique()))"
   ]
  },
  {
   "cell_type": "code",
   "execution_count": 26,
   "metadata": {
    "collapsed": false
   },
   "outputs": [
    {
     "data": {
      "text/plain": [
       "{'',\n",
       " nan,\n",
       " 'MyException',\n",
       " 'msg_type',\n",
       " 'MySessionID',\n",
       " 'call-start',\n",
       " 'network-code',\n",
       " 'call-rate',\n",
       " 'phone',\n",
       " 'CurrentLocation',\n",
       " 'call-direction',\n",
       " 'call-duration',\n",
       " 'call-id',\n",
       " 'req_id',\n",
       " 'call-request',\n",
       " 'status',\n",
       " 'MyEvent',\n",
       " 'response',\n",
       " 'call-end',\n",
       " 'msg',\n",
       " 'to',\n",
       " 'lang',\n",
       " 'call-price',\n",
       " 'log',\n",
       " 'sip-status'}"
      ]
     },
     "execution_count": 26,
     "metadata": {},
     "output_type": "execute_result"
    }
   ],
   "source": [
    "#all available columns within the nexmolog\n",
    "logCols"
   ]
  },
  {
   "cell_type": "code",
   "execution_count": 27,
   "metadata": {
    "collapsed": true
   },
   "outputs": [],
   "source": [
    "#remove nonesense columns:\n",
    "logCols.remove(np.nan)\n",
    "logCols.remove('')"
   ]
  },
  {
   "cell_type": "code",
   "execution_count": 30,
   "metadata": {
    "collapsed": false
   },
   "outputs": [
    {
     "name": "stderr",
     "output_type": "stream",
     "text": [
      "C:\\Users\\mhristov\\AppData\\Local\\Continuum\\Anaconda3\\lib\\site-packages\\pandas\\core\\frame.py:1997: UserWarning: Boolean Series key will be reindexed to match DataFrame index.\n",
      "  \"DataFrame index.\", UserWarning)\n"
     ]
    }
   ],
   "source": [
    "#Initialize dict of lists for storing splited log\n",
    "logColsDict = defaultdict(list)\n",
    "for c in dfNew.columns:\n",
    "    for logCol in logCols:\n",
    "        if len(dfNew[dfNew[c].notnull()][dfNew[c].str.startswith(logCol+'=').fillna(False)][c]) > 0:\n",
    "            logColsDict[logCol.replace('-', '_')].append(dfNew[dfNew[c].notnull()][dfNew[c].str.startswith(logCol+'=').fillna(False)][c].str.split('=', 1).str.get(1))"
   ]
  },
  {
   "cell_type": "code",
   "execution_count": 32,
   "metadata": {
    "collapsed": false
   },
   "outputs": [],
   "source": [
    "for k in logColsDict:\n",
    "    logColsDict[k] = pd.concat(logColsDict[k])\n",
    "    logColsDict[k].name = k\n",
    "    df = df.join(logColsDict[k], how='left')"
   ]
  },
  {
   "cell_type": "code",
   "execution_count": 41,
   "metadata": {
    "collapsed": true
   },
   "outputs": [],
   "source": [
    "df.rename(columns={'to': 'to_'}, inplace=True)\n",
    "df.rename(columns={0: 'dt', 1: 'log_type', 2: 'log_body'}, inplace=True)\n",
    "df['dt'] = pd.to_datetime(df['dt'])"
   ]
  },
  {
   "cell_type": "code",
   "execution_count": 42,
   "metadata": {
    "collapsed": false
   },
   "outputs": [
    {
     "name": "stdout",
     "output_type": "stream",
     "text": [
      "<class 'pandas.core.frame.DataFrame'>\n",
      "Int64Index: 31 entries, 0 to 30\n",
      "Data columns (total 26 columns):\n",
      "dt                 31 non-null datetime64[ns]\n",
      "log_type           31 non-null object\n",
      "log_body           31 non-null object\n",
      "call_end           6 non-null object\n",
      "MyEvent            2 non-null object\n",
      "MyException        2 non-null object\n",
      "status             13 non-null object\n",
      "msg_type           12 non-null object\n",
      "MySessionID        6 non-null object\n",
      "response           11 non-null object\n",
      "call_direction     6 non-null object\n",
      "call_request       13 non-null object\n",
      "log                19 non-null object\n",
      "CurrentLocation    4 non-null object\n",
      "call_price         6 non-null object\n",
      "msg                12 non-null object\n",
      "phone              12 non-null object\n",
      "sip_status         7 non-null object\n",
      "call_rate          6 non-null object\n",
      "call_duration      6 non-null object\n",
      "lang               12 non-null object\n",
      "call_start         6 non-null object\n",
      "call_id            13 non-null object\n",
      "to_                13 non-null object\n",
      "network_code       6 non-null object\n",
      "req_id             25 non-null object\n",
      "dtypes: datetime64[ns](1), object(25)\n",
      "memory usage: 3.5+ KB\n"
     ]
    }
   ],
   "source": [
    "df.info()"
   ]
  },
  {
   "cell_type": "code",
   "execution_count": 43,
   "metadata": {
    "collapsed": false
   },
   "outputs": [
    {
     "data": {
      "text/html": [
       "<div>\n",
       "<table border=\"1\" class=\"dataframe\">\n",
       "  <thead>\n",
       "    <tr style=\"text-align: right;\">\n",
       "      <th></th>\n",
       "      <th>dt</th>\n",
       "      <th>log_type</th>\n",
       "      <th>log_body</th>\n",
       "      <th>call_end</th>\n",
       "      <th>MyEvent</th>\n",
       "      <th>MyException</th>\n",
       "      <th>status</th>\n",
       "      <th>msg_type</th>\n",
       "      <th>MySessionID</th>\n",
       "      <th>response</th>\n",
       "      <th>...</th>\n",
       "      <th>phone</th>\n",
       "      <th>sip_status</th>\n",
       "      <th>call_rate</th>\n",
       "      <th>call_duration</th>\n",
       "      <th>lang</th>\n",
       "      <th>call_start</th>\n",
       "      <th>call_id</th>\n",
       "      <th>to_</th>\n",
       "      <th>network_code</th>\n",
       "      <th>req_id</th>\n",
       "    </tr>\n",
       "  </thead>\n",
       "  <tbody>\n",
       "    <tr>\n",
       "      <th>0</th>\n",
       "      <td>2015-12-20 21:41:39</td>\n",
       "      <td>EVENT</td>\n",
       "      <td>log=EVENT,MySessionID=895426ce56fa28d2d5b68830...</td>\n",
       "      <td>NaN</td>\n",
       "      <td>connection.disconnect.hangup</td>\n",
       "      <td>HANGUP</td>\n",
       "      <td>NaN</td>\n",
       "      <td>NaN</td>\n",
       "      <td>895426ce56fa28d2d5b68830087fa58d</td>\n",
       "      <td>NaN</td>\n",
       "      <td>...</td>\n",
       "      <td>NaN</td>\n",
       "      <td>NaN</td>\n",
       "      <td>NaN</td>\n",
       "      <td>NaN</td>\n",
       "      <td>NaN</td>\n",
       "      <td>NaN</td>\n",
       "      <td>NaN</td>\n",
       "      <td>NaN</td>\n",
       "      <td>NaN</td>\n",
       "      <td>NaN</td>\n",
       "    </tr>\n",
       "    <tr>\n",
       "      <th>1</th>\n",
       "      <td>2015-12-20 21:41:49</td>\n",
       "      <td>OK</td>\n",
       "      <td>log=OK,req_id=85360453,call-id=edc7d3836191941...</td>\n",
       "      <td>2015/12/20 21:41:49</td>\n",
       "      <td>NaN</td>\n",
       "      <td>NaN</td>\n",
       "      <td>ok</td>\n",
       "      <td>NaN</td>\n",
       "      <td>NaN</td>\n",
       "      <td>NaN</td>\n",
       "      <td>...</td>\n",
       "      <td>NaN</td>\n",
       "      <td>NaN</td>\n",
       "      <td>0.14000000</td>\n",
       "      <td>52</td>\n",
       "      <td>NaN</td>\n",
       "      <td>2015/12/20 21:40:58</td>\n",
       "      <td>edc7d383619194172273a5167494bce9-1</td>\n",
       "      <td>5515998563913</td>\n",
       "      <td>72406</td>\n",
       "      <td>85360453</td>\n",
       "    </tr>\n",
       "    <tr>\n",
       "      <th>2</th>\n",
       "      <td>2015-12-20 21:41:51</td>\n",
       "      <td>OK</td>\n",
       "      <td>log=OK,req_id=84409064,call-id=48c395150ebdf89...</td>\n",
       "      <td>2015/12/20 21:41:51</td>\n",
       "      <td>NaN</td>\n",
       "      <td>NaN</td>\n",
       "      <td>ok</td>\n",
       "      <td>NaN</td>\n",
       "      <td>NaN</td>\n",
       "      <td>NaN</td>\n",
       "      <td>...</td>\n",
       "      <td>NaN</td>\n",
       "      <td>NaN</td>\n",
       "      <td>0.14000000</td>\n",
       "      <td>52</td>\n",
       "      <td>NaN</td>\n",
       "      <td>2015/12/20 21:41:00</td>\n",
       "      <td>48c395150ebdf89be85b8f0c775ea3ad-1</td>\n",
       "      <td>554799859493</td>\n",
       "      <td>72402</td>\n",
       "      <td>84409064</td>\n",
       "    </tr>\n",
       "    <tr>\n",
       "      <th>3</th>\n",
       "      <td>2015-12-20 21:41:56</td>\n",
       "      <td>OK</td>\n",
       "      <td>log=OK,req_id=88425994,call-id=62f11ae821fb18e...</td>\n",
       "      <td>2015/12/20 21:41:56</td>\n",
       "      <td>NaN</td>\n",
       "      <td>NaN</td>\n",
       "      <td>ok</td>\n",
       "      <td>NaN</td>\n",
       "      <td>NaN</td>\n",
       "      <td>NaN</td>\n",
       "      <td>...</td>\n",
       "      <td>NaN</td>\n",
       "      <td>NaN</td>\n",
       "      <td>0.15600000</td>\n",
       "      <td>52</td>\n",
       "      <td>NaN</td>\n",
       "      <td>2015/12/20 21:41:05</td>\n",
       "      <td>62f11ae821fb18e9ed2fe083f7711d5a-1</td>\n",
       "      <td>59899253560</td>\n",
       "      <td>74800</td>\n",
       "      <td>88425994</td>\n",
       "    </tr>\n",
       "    <tr>\n",
       "      <th>4</th>\n",
       "      <td>2015-12-20 21:42:03</td>\n",
       "      <td>ERROR</td>\n",
       "      <td>log=ERROR,req_id=83525190,call-id=3c65ccd16442...</td>\n",
       "      <td>NaN</td>\n",
       "      <td>NaN</td>\n",
       "      <td>NaN</td>\n",
       "      <td>failed</td>\n",
       "      <td>NaN</td>\n",
       "      <td>NaN</td>\n",
       "      <td>NaN</td>\n",
       "      <td>...</td>\n",
       "      <td>NaN</td>\n",
       "      <td>0</td>\n",
       "      <td>NaN</td>\n",
       "      <td>NaN</td>\n",
       "      <td>NaN</td>\n",
       "      <td>NaN</td>\n",
       "      <td>3c65ccd164422fde2f76c5d40ba1eb72-1</td>\n",
       "      <td>557187785719</td>\n",
       "      <td>NaN</td>\n",
       "      <td>83525190</td>\n",
       "    </tr>\n",
       "  </tbody>\n",
       "</table>\n",
       "<p>5 rows × 26 columns</p>\n",
       "</div>"
      ],
      "text/plain": [
       "                   dt log_type  \\\n",
       "0 2015-12-20 21:41:39    EVENT   \n",
       "1 2015-12-20 21:41:49       OK   \n",
       "2 2015-12-20 21:41:51       OK   \n",
       "3 2015-12-20 21:41:56       OK   \n",
       "4 2015-12-20 21:42:03    ERROR   \n",
       "\n",
       "                                            log_body             call_end  \\\n",
       "0  log=EVENT,MySessionID=895426ce56fa28d2d5b68830...                  NaN   \n",
       "1  log=OK,req_id=85360453,call-id=edc7d3836191941...  2015/12/20 21:41:49   \n",
       "2  log=OK,req_id=84409064,call-id=48c395150ebdf89...  2015/12/20 21:41:51   \n",
       "3  log=OK,req_id=88425994,call-id=62f11ae821fb18e...  2015/12/20 21:41:56   \n",
       "4  log=ERROR,req_id=83525190,call-id=3c65ccd16442...                  NaN   \n",
       "\n",
       "                        MyEvent MyException  status msg_type  \\\n",
       "0  connection.disconnect.hangup      HANGUP     NaN      NaN   \n",
       "1                           NaN         NaN      ok      NaN   \n",
       "2                           NaN         NaN      ok      NaN   \n",
       "3                           NaN         NaN      ok      NaN   \n",
       "4                           NaN         NaN  failed      NaN   \n",
       "\n",
       "                        MySessionID response    ...    phone sip_status  \\\n",
       "0  895426ce56fa28d2d5b68830087fa58d      NaN    ...      NaN        NaN   \n",
       "1                               NaN      NaN    ...      NaN        NaN   \n",
       "2                               NaN      NaN    ...      NaN        NaN   \n",
       "3                               NaN      NaN    ...      NaN        NaN   \n",
       "4                               NaN      NaN    ...      NaN          0   \n",
       "\n",
       "    call_rate call_duration lang           call_start  \\\n",
       "0         NaN           NaN  NaN                  NaN   \n",
       "1  0.14000000            52  NaN  2015/12/20 21:40:58   \n",
       "2  0.14000000            52  NaN  2015/12/20 21:41:00   \n",
       "3  0.15600000            52  NaN  2015/12/20 21:41:05   \n",
       "4         NaN           NaN  NaN                  NaN   \n",
       "\n",
       "                              call_id            to_ network_code    req_id  \n",
       "0                                 NaN            NaN          NaN       NaN  \n",
       "1  edc7d383619194172273a5167494bce9-1  5515998563913        72406  85360453  \n",
       "2  48c395150ebdf89be85b8f0c775ea3ad-1   554799859493        72402  84409064  \n",
       "3  62f11ae821fb18e9ed2fe083f7711d5a-1    59899253560        74800  88425994  \n",
       "4  3c65ccd164422fde2f76c5d40ba1eb72-1   557187785719          NaN  83525190  \n",
       "\n",
       "[5 rows x 26 columns]"
      ]
     },
     "execution_count": 43,
     "metadata": {},
     "output_type": "execute_result"
    }
   ],
   "source": [
    "df.head()"
   ]
  },
  {
   "cell_type": "code",
   "execution_count": null,
   "metadata": {
    "collapsed": true
   },
   "outputs": [],
   "source": []
  }
 ],
 "metadata": {
  "kernelspec": {
   "display_name": "Python 3",
   "language": "python",
   "name": "python3"
  },
  "language_info": {
   "codemirror_mode": {
    "name": "ipython",
    "version": 3
   },
   "file_extension": ".py",
   "mimetype": "text/x-python",
   "name": "python",
   "nbconvert_exporter": "python",
   "pygments_lexer": "ipython3",
   "version": "3.4.3"
  }
 },
 "nbformat": 4,
 "nbformat_minor": 0
}
